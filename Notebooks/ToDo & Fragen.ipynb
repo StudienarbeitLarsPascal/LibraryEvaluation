{
 "cells": [
  {
   "cell_type": "markdown",
   "metadata": {},
   "source": [
    "## ToDo\n",
    "\n",
    "* Überlegen, ob Codesnippets im Fließtext durch enstprechende Markdown Schriftart ersetzt wird\n",
    "* Sätze auf komplexität und Verständlichkeit überprüfen\n",
    "* Grammatikalische Korrektur\n",
    "* Kaufmanns-Und durch das ausgeschriebene Wort ersetzen\n",
    "* Konsistenz in der Einführung der Funktionen\n",
    "    * Bsp.: entweder `board.is_game_over()` oder `is_game_over()`\n",
    "* Repetations zu `is_game_over()` ergänzen?\n",
    "\n",
    "## Fragen, die beantwortet werden müssen\n",
    "\n",
    "### Definitionen:\n",
    "* Was sind erlaubte Züge?\n",
    "* ASCII\n",
    "* \n",
    "\n",
    "### Glossar der verwendeten Funktionen\n",
    "* `is_game_over()` \n",
    "    * Rückgabewert: boolean\n",
    "        * true: falls das Spiel auf Grund eines Schachmatts oder anderer spielbeendender Umstände vorbei ist\n",
    "        * false: sonst\n",
    "    * Parameter: /\n",
    "* `legal_moves`\n",
    "* `uci()`\n",
    "* `list()`\n",
    "* `Board()`\n",
    "* `print()`\n",
    "* `SVG()`\n",
    "* `svg.board()`\n",
    "* `move.from_square`\n",
    "* `move.to_square`\n",
    "* `push_san(san)`\n",
    "\n",
    "\n",
    "## Notes\n",
    "__[Markdown Cheatsheet](https://medium.com/ibm-data-science-experience/markdown-for-jupyter-notebooks-cheatsheet-386c05aeebed)__\n"
   ]
  },
  {
   "cell_type": "code",
   "execution_count": null,
   "metadata": {},
   "outputs": [],
   "source": []
  }
 ],
 "metadata": {
  "kernelspec": {
   "display_name": "Python 3",
   "language": "python",
   "name": "python3"
  },
  "language_info": {
   "codemirror_mode": {
    "name": "ipython",
    "version": 3
   },
   "file_extension": ".py",
   "mimetype": "text/x-python",
   "name": "python",
   "nbconvert_exporter": "python",
   "pygments_lexer": "ipython3",
   "version": "3.6.5"
  }
 },
 "nbformat": 4,
 "nbformat_minor": 2
}

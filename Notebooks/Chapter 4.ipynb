{
 "cells": [
  {
   "cell_type": "code",
   "execution_count": null,
   "metadata": {},
   "outputs": [],
   "source": [
    "from IPython.core.display import HTML, display\n",
    "HTML(\"\"\"\n",
    "<style>\n",
    "svg {\n",
    "    width:40% !important;\n",
    "    height:40% !important;\n",
    "}\n",
    "\n",
    ".container { \n",
    "    width:100% !important;\n",
    "}\n",
    "</style>\n",
    "\"\"\")"
   ]
  },
  {
   "cell_type": "markdown",
   "metadata": {},
   "source": [
    "## Erstellen des Spiels und der Spieler\n",
    "\n",
    "Vor dem Start eines Schachspiels müssen zunächst Spiel generell sowie die partizpierenden Spieler der gewünschten Spielertypen erstellt werden. Dazu muss der Spieler dem Programm entweder Parameter mitgeben, die das Spiel direkt mit den gewünschten Spielern startet, oder aber der Spieler wird zum Programmstart nach gewünschten Einstellungen gefragt.\n",
    "\n",
    "In beiden Fällen wird anschließend eine Liste an Spielern an Hand der gegebenen Funktionen erstellt, mittels welcher Das Spiel dann stattfinden kann. Dies findet in der Funktion `interrogate_settings` statt.\n",
    "\n",
    "Wird das Spiel mit Parametern gestartet werden diese mit in die `interrogate_settings` Funktion übermittelt. Andernfalls werden alle fehlenden Informationen in der Funktion über die Nutzerschnittstelle abgefragt. Dies sieht wie folgt aus:"
   ]
  },
  {
   "cell_type": "code",
   "execution_count": null,
   "metadata": {},
   "outputs": [],
   "source": [
    "def interrogate_settings(self, player_names=None, player_types=None, player_difficulty = None):\n",
    "    players = []\n",
    "    for i in range(2):\n",
    "        num = i+1\n",
    "        if player_names is None:\n",
    "            name = self.get_player_name(num)\n",
    "        else:\n",
    "            name = player_names[i]\n",
    "\n",
    "        if player_types is None:\n",
    "            player_type = self.get_player_type(num)\n",
    "        else:\n",
    "            player_type = player_types[i]\n",
    "\n",
    "        difficulty = None\n",
    "        if player_type == 2 and player_difficulty is None:\n",
    "            difficulty = self.get_difficulty(num)\n",
    "        elif player_type == 2 and player_difficulty is not None:\n",
    "            difficulty = player_difficulty[i]\n",
    "\n",
    "        new_player = PlayerSettings(num, name, player_type, difficulty)\n",
    "        players.append(new_player)\n",
    "\n",
    "    return players"
   ]
  },
  {
   "cell_type": "markdown",
   "metadata": {},
   "source": [
    "Dabei werden für jeden Spieler einmal ein Block an Abfragen durchgegangen, der alle Einstellungen abfragt und diese entsprechend speichet.\n",
    "\n",
    "Nach der Abfrage der Informationen \"Name\" und \"Spielertyp\" wird im Falle, dass dieser Spielertyp \"2\", der der KI entspricht, gleicht, auch noch der Schwierigkeitsgrad abgefragt, sollte dieser nicht bereits als Startparameter übergeben wordne sein.\n",
    "\n",
    "Anschließend wird ein neues Einstellungsparameterschema für Spieler, genannt `PlayerSettings`, erstellt und der Liste hinzugefügt. Diese Liste wird nach Durchgang der Schleife für beide Spieler zurück gegeben.\n",
    "\n",
    "Nachdem die Einstellungen für alle Spieler bekannt sind, werden die Spieler erstellt. Dies funktioniert wie in nachfolgendem Code-Snippet zu sehen."
   ]
  },
  {
   "cell_type": "code",
   "execution_count": null,
   "metadata": {},
   "outputs": [],
   "source": [
    "player_settings = settings_ui.interrogate_settings()\n",
    "players = []\n",
    "for player_setting in player_settings:\n",
    "    type = type_switcher(player_setting.type)\n",
    "    players.append(type.Player(player_setting.num, player_setting.name, ui_status, player_setting.difficulty))"
   ]
  },
  {
   "cell_type": "markdown",
   "metadata": {},
   "source": [
    "Dabei werden zunächst wie gehabt die Einstellungen abgefragt, ehe eine Liste aller Spieler erstellt wird. Dann wird über jeden Eintrag in der Einstellungsliste iteriert und für diesen zunächst der Spielertyp berechnet. Dabei wird der `type_switcher` zur Hilfe genommen, welcher je nach angegebenen Typ die entsprechende Klasse des Spielertyps zurückgibt. Mittels dieser wird dann ein neuer Spieler erstellt, wobei beim Initialisierren alle weiteren Daten mitgegeben werden. Dieser neue Spieler wird dann der Spielerliste hinzugefügt. Mit dieser Liste an Spielern wird dann der `ChessMaster` initialisiert, der im nächsten Kapitel beschrieben wird."
   ]
  },
  {
   "cell_type": "markdown",
   "metadata": {},
   "source": [
    "## Befehlszeilenargumente zum Starten der Schach-KI\n",
    "Das Starten eines Programms mittels der Konsole bietet bei vielen Programmiersprachen die Möglichkeit Argumente mit zu übergeben. Diese Argumente ermöglichen es Programme und Scripts mit Speziellen Eigenschaften aufrufen zu können. \n",
    "\n",
    "Verständlich kann man sich das an dem Beispiel eines einfachen Scripts. Angenommen, dass die Programmiersprache des Scripts Befehlszeilenargumente unterstützt und der Code davon ist eine for-Schleife, die *n*-Mal ausgeführt wird und dabei jeweils einmal den Wert von *n* ausgibt. Die Variable *n* wird mittels Befehlszeilenargument übergeben.\n",
    "\n",
    "Als nächstes wird das Script wie folgt aufgerufen\n",
    "\n",
    "`$ sh beispielscript.sh 10`\n",
    "\n",
    "Somit wird das Script der Variable *n* den übergebenen Wert 10 zuweisen und somit die Zahlen bis zehn ausgeben.\n",
    "\n",
    "Diese Art der Spezialisierung von Programmen wird von der Sprache Python mittels des Moduls `argparse` unterstützt."
   ]
  },
  {
   "cell_type": "code",
   "execution_count": null,
   "metadata": {},
   "outputs": [],
   "source": [
    "import argparse"
   ]
  },
  {
   "cell_type": "markdown",
   "metadata": {},
   "source": [
    "Wie im Kapitel INSERT bereits beschrieben müssen zum Start der Schach-KI einige Einstellungen vorgenommen werden. Hierunter fallen sowohl die Spieler, ihr Spielertyp und falls es sich um das Spiel gegen eine KI handelt um deren Schwierigkeitsgrad. Durch die Verwendung von `argparse` lassen sich diese Einstellungen als Befehlszeilenargumente vornehmen und somit einer Abfrage von Informationen entgehen. \n",
    "\n",
    "Ein Anwendungsgebiet neben der Nutzung durch einen User, der nicht jeden Parameter einzeln eingeben möchte, ist das automatisierte Aufrufen der Schach-KI durch ein Script. Von dieser Eigenschaft wird in Kapitel INSERT Gebrauch gemacht werden.\n",
    "\n",
    "Im folgenden Code wird neben dem Nutzer mittels `argparse` neben der Spieleinstellung auch die Möglichkeit gegeben auszuwählen, ob das Graphical User Interface geöffnet werden soll, oder das Spiel in der Konsole stattfinden soll. Ebenfalls lässt sich durch die Argumente die aktuelle Entwicklungsversion der Schach-KI ausgeben.\n",
    "\n",
    "Für die Implementierung und Verwendung von Befehlszeilenargumente wurde die Funktion `intialize_parser` entwickelt in der die benötigten Einstellungen des Argument-Parsers vorgenommen werden. Aufgerufen wird diese Funktion bei der Verwendung der Schach-KI bevor die Hauptfunktion aufgerufen wird.\n",
    "\n",
    "Dazu wird zu Beginn ein neuer Parser erzeugt und diesem werden zwei verschiedene Argumentgruppen zugewiesen. Die beiden Gruppen sind dafür zuständig weitere Argumente zu enthalten. Der Unterschied dieser liegt darin, dass in der Gruppe `ui_group` nur eins der angehörigen Argumente ausgewählt werden dürfen. Dies hat den Grund, dass sich der Nutzer zwischen der Verwendung des Graphical User Interface und der Konsole entscheiden muss und nicht beides gleichzeitig verwenden kann.\n",
    "\n",
    "Jedes Argument, das hinzugefügt wird kann dabei durch zwei verschiedene Argumente angesprochen werden. Die Kurzform dieses Arguments wird mit einem Spiegelstrich angesprochen und die längere Variante mit zwei Spiegelstrichen. Durch den Parameter `help` lässt sich dem Nutzer eine Hilfestellung geben was die Aufgabe dieses Arguments ist. Diese Hilfestellung kann aufgerufen werden indem das Programm mit dem Parameter `-h` oder `--help` aufgerufen wird.\n",
    "\n",
    "Ebenfalls lässt sich bei der Initialisierung eines Arguments der Parameter `action` angeben, der bei den Argumenten `--terminal` und `--gui` im Parser den Boolean-Wert `True` speichert falls diese durch den Nutzer aufgerufen wurden.\n",
    "\n",
    "Die zweite Argumentengruppe enthält Argumente die gleichzeitig während des Startens aufgerufen werden können. Hierunter fällt beispielsweise der Spielername, dessen Typ und die Schwierigkeit einer KI.\n",
    "\n",
    "Bei allen drei Argumenten, die der Gruppe `player_name_type_group` angehören wurde die Eigenschaft festgelegt, dass genau zwei Werte bei Aufruf dieser Argumente angegeben werden müssen. Eine weitere Spezialisierung wird bei den Argumenten zum Spielertyp und der Spielschwierigkeit vorgenommen. Bei diesen Argumenten hat der User nur die Auswahl zwischen vorgegebenen Antworten und kann dabei nur diese auswählen.\n",
    "\n",
    "Ingesamt wurde bei dieser Argumentengruppe die Hilfestellung durch `help=argparse.SUPPRESS` deaktiviert, da dies Einstellungen sind, die hauptsächlich für den wiederholten Aufruf durch Scripts interessant sind und nicht für den allgemeinen Nutzer. Somit werden diese Argumente bei der Verwendung des Parameters `-h`/`--help` nicht aufgelistet.\n",
    "\n",
    "Als letztes Argument wird ein Parameter initialisiert, der für die Version der Schach-KI zuständig ist. Nachdem alle Argumente initialisiert wurden wird der Parser zu dem diese Argumente gehören zurückgegeben."
   ]
  },
  {
   "cell_type": "code",
   "execution_count": null,
   "metadata": {},
   "outputs": [],
   "source": [
    "# usage argument parser: [-h] [-t | -g] [-p PLAYER PLAYER][-pT {User,AI,Player,Dummy} {User,AI,Player,Dummy}][-pD {0,1,2,3} {0,1,2,3}] [-v]\n",
    "def intialize_parser():\n",
    "    parser = argparse.ArgumentParser()\n",
    "    ui_group = parser.add_mutually_exclusive_group()\n",
    "    ui_group.add_argument(\"-t\", \"--terminal\", help=\"starts the terminal ui\", action=\"store_true\")\n",
    "    ui_group.add_argument(\"-g\", \"--gui\", help=\"starts the GUI\", action=\"store_true\")\n",
    "\n",
    "    player_name_type_group = parser.add_argument_group()\n",
    "    player_name_type_group.add_argument(\"-p\", \"--player\", nargs=2, help=argparse.SUPPRESS)\n",
    "    player_name_type_group.add_argument(\"-pT\",\"--player_type\", nargs=2, choices=[\"User\",\"AI\", \"Player\", \"Dummy\"], help=argparse.SUPPRESS)\n",
    "    player_name_type_group.add_argument(\"-pD\",\"--player_difficulty\", nargs=2, type=int, choices=range(0,4), help=argparse.SUPPRESS)\n",
    "\n",
    "    parser.add_argument(\"-v\", \"--version\", help=\"print the version number and exit\", action=\"store_true\")\n",
    "    return parser"
   ]
  },
  {
   "cell_type": "markdown",
   "metadata": {},
   "source": [
    "Nach der Initialisierung des Parsers wird die Hauptfunktion `main` mit dem Rückgabewert der Funktion `intialize_parser` aufgerufen. Dieser Rückgabewert enthält die Befehlszeilenargumente, die in der `main` durch If-Verzweigungen verwendet werden.\n",
    "\n",
    "Falls der Nutzer die Schach-KI startet ohne ein Übergabeparameter oder mit dem Parameter `-g`/`--gui` wird der Variable `ui_status` der Wert `1` zugewiesen. Diese Variable wird im weiteren Verlauf des Codes dazu verwendet um entscheiden zu können welche Visualisierungsmöglichkeit ausgewählt wurde. \n",
    "\n",
    "Der aktuelle Stand ist, dass nur die Nachricht für den Nutzer ausgegeben wird, dass das Graphical User Interface gestartet wird. Da die Entwicklung einer weiteren Benutzerschnittstellen den Umfang dieser wissenschaftlichen Arbeit sprengen würde, ist die Möglichkeit vorhanden zukünftig eine weitere Schnittstelle hinzuzufügen, jedoch dies in der aktuellen Version nicht umgesetzt.\n",
    "\n",
    "Falls der Nutzer den Parameter `-t`/`--terminal` verwendet hat, wird die Funktion `start_chess_maste(ui_status)` mit dem Übergabeparameter `ui_status` und dessen Wert `0`àufgerufen. Sollte der Nutzer den Parameter `-v`/`--version` verwenden erhält die aktuelle Versionsnummer."
   ]
  },
  {
   "cell_type": "code",
   "execution_count": null,
   "metadata": {},
   "outputs": [],
   "source": [
    "def main(args):\n",
    "    if args.gui or (not (args.terminal) and not (args.gui) and not (args.version)):\n",
    "        ui_status = 1\n",
    "        print(\"Start GUI\")\n",
    "    elif args.terminal:\n",
    "        ui_status = 0\n",
    "        start_chess_master(ui_status)\n",
    "    elif args.version:\n",
    "        print(__version__)"
   ]
  },
  {
   "cell_type": "markdown",
   "metadata": {},
   "source": [
    "Die zusätzlichen Argumente, die der Nutzer angeben kann werden in der Funktion `start_chess_master(ui_status)` verwendet um damit steuern zu können, ob die Einstellungen des Spiels gesetzt wurden, oder diese abgefragt werden müssen."
   ]
  },
  {
   "cell_type": "markdown",
   "metadata": {},
   "source": [
    "## Verwalten des Schachspiels und Pflege des Spielverlaufs\n",
    "\n",
    "Ein essentieller Part im Erstellen eines Schachprogrammes ist das Verwalten des Schachspiels. Dabei muss garantiert werden, dass\n",
    "- Solange das Spiel nicht vorbei ist, die Spieler abwechselnd einen Zug auswählen können\n",
    "- Der Zug auf dem vorhandenen Schachbrett durchgeführt wird\n",
    "- Das daraus entstehende Schachbrett dem Spieler sichtbar gemacht wird\n",
    "\n",
    "Dies ist Aufgabe des `ChessMaster` und ist mit folgendem Code umgesetzt"
   ]
  },
  {
   "cell_type": "code",
   "execution_count": null,
   "metadata": {},
   "outputs": [],
   "source": [
    "board = chess.Board()\n",
    "while not board.is_game_over():\n",
    "    current_player = players[int(not board.turn)]\n",
    "    current_player.print_board(current_player.name, board)\n",
    "\n",
    "    move = current_player.get_move(board)\n",
    "    board.push(move)\n",
    "    current_player.submit_move(move)"
   ]
  },
  {
   "cell_type": "markdown",
   "metadata": {},
   "source": [
    "Dabei wird zunächst ein neues Schachbrett - hier board genannt - erstellt. Solange das Spiel auf diesem nicht vorbei ist, was mittels der `board.is_game_over()` Funktiong geprüft werden kann, wird dann stets die gleiche Schleife durchlaufen.\n",
    "\n",
    "In dieser wird zuallererst der aktuelle Spieler ermittelt und referenziert. Dazu wird aus einer vorhandenen Liste aller Spieler derjenige gewählt, dessen Position in der Liste der gespeicherten Zugnummer des boards entspricht. Diese ist entweder 0, wenn der weiße Spieler an der Reihe ist, oder 1, wenn der schwarze Spieler den nächsten Zug auswählen kann. \n",
    "\n",
    "Der daraus berechnete Spieler wurde zuvor beim Spielstart ein Spielertyp zugewiesen, der auf einer Schnittstelle basiert und somit alle nötigen Funktionen implementiert. Diese wurden im Kapitel INSERT beschrieben. Im Verwalter des Schachspiels werden diese nun nach für nach aufgerufen.\n",
    "\n",
    "Zunächst wird das board für den Spieler ausgegeben mittels der `print_board` Funktion. Ist der Spieler ein Nutzer, so wird diese für gewöhnlich am Nutzerinterface ausgegeben. Andernfalls ist dies nicht nötig und die Funktion kann leer bleiben, ohne etwas auszugeben.\n",
    "\n",
    "Nun kommt es zum wichtigsten Teil - dem Berechnen des nächsten Zuges. Dazu wird der Spieler aufgefordert an Hand eines gegebenen boards den nächstne Zug zu nennen. In diesem Teil übernimmt beispielsweise die KI ihre Berechnungen für den nächsten Schachzug. Der Nutzer dagegen gibt diesen mittels eines Eingabefeldes ein. \n",
    "\n",
    "Nachdem der Zug vom entsprechenden Spieler berechnet und zurückgegeben wurde, wird dieser dem aktuellen board hinzugefügt. Dadurch wechselt auch automatisch der Spieler, der an der Reihe ist, wodurch dieser im nächsten Schleifendurchlauf nach dessen Zug gefragt wird.\n",
    "\n",
    "Abschließend wird das neue board nochmal abgeschickt. Dabei kann zum Beispiel eine erneute Ausgabe des Schachbretts mit dem aktualisierten Zustand stattfinden oder beispielsweise bei der Nutzung einer Online-API der gewählte Zug an die Schnittstelle gesendet werden.\n",
    "\n",
    "Nach dem Ende des Spiels wird noch das Ergebnis ausgegeben. Der Code dazu ist im folgenden Code Snippet zu sehen."
   ]
  },
  {
   "cell_type": "code",
   "execution_count": null,
   "metadata": {},
   "outputs": [],
   "source": [
    "result = Tools.get_board_result(board)\n",
    "if result is 1:\n",
    "    players[0].print_win_msg()\n",
    "    players[1].print_loose_msg()\n",
    "elif result is -1:\n",
    "    players[1].print_win_msg()\n",
    "    players[0].print_loose_msg()\n",
    "else:\n",
    "    players[0].print_draw_msg()\n",
    "    players[1].print_draw_msg()"
   ]
  },
  {
   "cell_type": "markdown",
   "metadata": {},
   "source": [
    "Dabei wird zuerst das Ergebnis an Hand der `get_board_result` Funktion aus der Hilfsklasse \"Tools\" ermittelt. Diese sieht wie folgt aus:"
   ]
  },
  {
   "cell_type": "code",
   "execution_count": null,
   "metadata": {},
   "outputs": [],
   "source": [
    "if board.is_variant_loss():\n",
    "    return -1 if board.turn == chess.WHITE else 1\n",
    "elif board.is_variant_win():\n",
    "    return 1 if board.turn == chess.WHITE else -1\n",
    "elif board.is_variant_draw():\n",
    "    return 0\n",
    "# Checkmate.\n",
    "if board.is_checkmate():\n",
    "    return -1 if board.turn == chess.WHITE else 1\n",
    "# Draw claimed.\n",
    "if board.can_claim_draw():\n",
    "    return 0\n",
    "# Seventyfive-move rule or fivefold repetition.\n",
    "if board.is_seventyfive_moves() or board.is_fivefold_repetition():\n",
    "    return 0\n",
    "# Insufficient material.\n",
    "if board.is_insufficient_material():\n",
    "    return 0\n",
    "# Stalemate.\n",
    "if not any(board.generate_legal_moves()):\n",
    "    return 0\n",
    "return 0"
   ]
  },
  {
   "cell_type": "markdown",
   "metadata": {},
   "source": [
    "Dabei wird jede mögliche Option, wie das Spiel zum Ende gekommen sein kann, durchgegangen und anschließend das jeweilige Ergebnis zurückgegeben. Eine 1 steht für einen Sieg für weiß, eine -1 für einen Sieg für schwarz und eine 0 für ein Unentschieden beziehungsweise einen Patt.\n",
    "\n",
    "Nach Abfrage des Ergebnisses werden beide Spieler abhängig von diesem entweder dazu aufgefordert eine Siesesbenachrichtigung auszugeben oder aber eine Benachrichtigung über die Niederlage oder ein Unentschieden.\n",
    "\n",
    "Zusätzlich zu dem Verwalten des Spiels ist es auch Aufgabe des `ChessMaster`s die Historie aller Spiele zu pflegen. Dazu wird zunächst eine Liste von Schachbrettern der Klasse `chess.Board` angelegt. Nach jedem durchgeführten Zug wird der neue Zustand des boards zu dieser hinzugefügt. Dabei wird das Schachbrett in der fen-Notation gespeichert, die in einem String den exakten Zustand des Schachbretts wiedergeben kann. Dabei wird jedoch nur der erste Teil dieser Notation gespeichert, da dieser alleine bereits Aufschluss über die Positionierungen gibt. Die darauf folgenden Teile sind zum Speichern des Spielers, der am Zug ist, wie viele Züge bereits durchgeführt wurden und weitere Informationen, die zum Bewerten in der Historie nicht notwendig sind. \n",
    "\n",
    "Das Speichern der Züge im Verlauf des Spiels sieht dann wie folgt aus"
   ]
  },
  {
   "cell_type": "code",
   "execution_count": null,
   "metadata": {},
   "outputs": [],
   "source": [
    "board = chess.Board()\n",
    "turn_list = list()\n",
    "\n",
    "while not board.is_game_over():\n",
    "    current_player = players[int(not board.turn)]\n",
    "    current_player.print_board(current_player.name, board)\n",
    "\n",
    "    move = current_player.get_move(board)\n",
    "    board.push(move)\n",
    "    current_player.submit_move(move)\n",
    "    \n",
    "    turn_list.append(board.fen().split(\" \")[0])"
   ]
  },
  {
   "cell_type": "markdown",
   "metadata": {},
   "source": [
    "In Zeile 2 wird die Liste erstellt und in der letzten Zeile der Zustand in diese Liste gespeichert. Nach Ende des Spiels muss diese Liste noch in die bestehende Historie eingepflegt werden. Dies ist in folgendem Code-Snippet zu sehen."
   ]
  },
  {
   "cell_type": "code",
   "execution_count": null,
   "metadata": {},
   "outputs": [],
   "source": [
    "def groom_board_history(self, final_board, turn_list):\n",
    "    victory_status = Tools.get_board_result(final_board)\n",
    "\n",
    "    new_turn_dict = dict.fromkeys(turn_list, victory_status)\n",
    "\n",
    "    history = pd.read_csv(HISTORY_FILE_LOC)\n",
    "    history_dict = dict(zip(list(history.board), list(history.value)))\n",
    "\n",
    "    merged_history_dict = { k: new_turn_dict.get(k, 0) + history_dict.get(k, 0) for k in set(new_turn_dict) | set(history_dict) }\n",
    "    merged_history = pd.DataFrame(list(merged_history_dict.items()), columns=['board','value'])\n",
    "\n",
    "    merged_history.to_csv(HISTORY_FILE_LOC)"
   ]
  },
  {
   "cell_type": "markdown",
   "metadata": {},
   "source": [
    "Dabei wird zuerst das Ergebnis ermittelt mittels der bereits vorgestellten Funktion `get_board_result`. Danach wird ein Dictionary angelegt, das auf der einen Seite jeden gespeicherten Zustand des einzupflegenden Spiels als Schlüssel enthält und auf der anderen Seite als Wert den Ausgang des Spiels. Zur Erinnerung - dieser beträgt 1 bei Sieg von weiß, 0 bei Unentschieden/Patt und -1 bei Sieg von Schwarz.\n",
    "\n",
    "Nachdem das Dictionary der neu einzupflegenden Züge angelegt ist, wird die vorhandene Historie aus der entsprechenden Datei ausgelesen. Dies wird mittels der in `panda` enthaltenden Funktion `pd.read_csv` durchgeführt. Anschließend wird auch daraus ein Dictionary erstellt, indem die Zeile \"board\" als Schlüssel und die Zeile \"value\" als Wert verwendet wird.\n",
    "\n",
    "Nun werden die beiden Dictionaries zusammengefügt. Dazu wird für jeden Schlüssel aus dem Dictionary der neu einzupflegenden Spielzüge oder dem vorhandenen Historie-Dictionary der berechnete Wert aus ersterem auf den vorhandenen Wert in der Spielhistorie aufaddiert. Dadurch erhalten wird ein Dictionary, das alle Schachzustände aus der Historie sowie den neuen Spielzuständen vereint und dessen Werte durch Addition kombiniert, wodurch der neu berechnete Wert Aufschluss über den wahrscheinlichen Sieger ausgehend von einem bestimmten Zustand geben kann.\n",
    "\n",
    "Anschließend wird dieses Dictionary in ein Panda Dataframe umgewandelt, wobei der Schlüssel für die Zeile \"board\" und der Wert für die Zeile \"value\" verwendet wird, um das DataDrame anschließend wieder zu der CSV-Datei zu speichern.\n",
    "\n",
    "Dies ermöglicht nicht nur eine Verwaltung des Spiels, sondern gleichzeitig auch eine Speicherung aller möglichen Zustände, die bei den Evaluierungsfunktionen (beschrieben in INSERT) zur Hilfe genommen werden können"
   ]
  },
  {
   "cell_type": "markdown",
   "metadata": {},
   "source": [
    "## Einbinden und Verwendung von Opening-Books\n",
    "Opening-Books sind ein wesentlicher Bestandteil der Schach-KI, da diese aus einer großen Anzahl von Eröffnungszügen bestehen. Hierbei wurden die Opening-Books bereits analysiert und konnten durch Überprüfungen als gute Eröffnungen identifiziert werden.\n",
    "\n",
    "Zur Verwendung dieser Bücher müssen diese Dateien, die im .bin-Format vorliegen, in eine Variable geladen werden, da später auf diese Bücher mittels Funktionen zugegriffen werden soll. Damit die Eröffnungszüge in einer Variable gespeichert werden können, muss der Pfad zu dem Buch vorliegen, der im folgenden Codeausschnitt in eine globale Konstante `OPENING_BOOK_LOC` geschrieben wurde."
   ]
  },
  {
   "cell_type": "code",
   "execution_count": null,
   "metadata": {},
   "outputs": [],
   "source": [
    "OPENING_BOOK_LOC = \"res/polyglot/Performance.bin\""
   ]
  },
  {
   "cell_type": "markdown",
   "metadata": {},
   "source": [
    "Für das Laden eines Buches in eine Variable wird die Funktion `import_opening_book(self, book_location)` genutzt. Diese hat die Eigenschaft, dass sie als Übergabeparameter eine Konstante erhält, die den Pfad zu dem zu importierenden Opening-Book enthält.\n",
    "\n",
    "Innerhalb der `import_opening_book` Funktion wird mittels einer If-Verzweigung überprüft, ob der angegebene Pfad eine Datei ist. Sollte dies zutreffen, dann wird, inklusive des Buchpfades, die Funktion `polyglot.open_reader` aus der \"chess\" Bibliothek aufgerufen. Diese Funktion liefert als Rückgabewert das Opening-Book, welches an die Stelle zurückgegeben wird, an der die Funktion `import_opening_book` aufgerufen wird.\n",
    "\n",
    "Sollte der Pfad in der Variable `book_location` keine Datei sein, so wird ein _File Not Found_-Fehler geworfen, der dabei den vermeintlichen Pfad mit übergibt."
   ]
  },
  {
   "cell_type": "code",
   "execution_count": null,
   "metadata": {},
   "outputs": [],
   "source": [
    "def import_opening_book(self, book_location):\n",
    "        '''\n",
    "        load an opening book\n",
    "        raise an error if system cannot find the opening-book file\n",
    "        '''\n",
    "        if os.path.isfile(book_location):\n",
    "            return chess.polyglot.open_reader(book_location)\n",
    "        else:\n",
    "            raise FileNotFoundError(\n",
    "                errno.ENOENT, os.strerror(errno.ENOENT), book_location)"
   ]
  },
  {
   "cell_type": "markdown",
   "metadata": {},
   "source": [
    "Die Funktion zum Importieren des Opening-Books wird im Konstruktor der KI-Klasse aufgerufen, da das Opening-Book bei jeder Verwendung direkt zu Beginn von der KI benötigt wird und somit direkt verfügbar sein muss. Das bringt den Vorteil, dass eine Klassenvariable vorliegt, die von allen Funktionen der Klasse KI verwendet werden kann, sobald der Konstruktor ausgeführt wurde.\n",
    "\n",
    "Als Übergabewert wird die zuvor definierte Konstante `OPENING_BOOK_LOC` übergeben, die den Pfad zu einem Opening-Book enthält."
   ]
  },
  {
   "cell_type": "code",
   "execution_count": null,
   "metadata": {},
   "outputs": [],
   "source": [
    "self.opening_book = self.import_opening_book(OPENING_BOOK_LOC)"
   ]
  },
  {
   "cell_type": "markdown",
   "metadata": {},
   "source": [
    "Um das Opening-Book verwenden zu können und aus diesem mögliche Eröffnungsstrategien verwenden zu können wird die Funktion `get_opening_move(self, board, opening_book)` benötigt, die als Übergabewerte das aktuelle Schachbrett und das importierte Book erhält.\n",
    "\n",
    "Der aktuelle Spielstand in Form des Schachbretts wird benötigt damit das Opening-Book weiß auf welche Situation reagiert werden muss.\n",
    "\n",
    "Der Sinn der Funktion `get_opening_move` ist es einen Schachzug als Objekt _chess.Move_ zurückzugeben, der laut des Opening-Books in dieser Situation angebracht ist. Dafür wird zuerst überprüft, ob die übergebene Variable `opening_book` durch den Konstruktor und dem damit einhergehenden Aufruf der Funktion `import_opening_book` korrekt initialisiert wurde.\n",
    "\n",
    "Sollte dies nicht der Fall sein wird von der Funktion ein `None` zurückgegeben. Der Wert `None` ist in der Sprache Python der leere Zustand. \n",
    "\n",
    "Falls das Opening-Book korrekt geladen werden konnte wird durch ein try-except versucht einen passenden Schachzug zu finden. Hierbei wird ein try-except verwendet, da die aufgerufene Funktion `opening_book.find(board)` einen _Index Error_ wirft, falls das Opening-Book keinen passenden Zug kennt. Wenn dieser Fall eintreten sollte wird ebenfalls ein `None` zurückgegeben. Sollte jedoch das Buch einen passenden Zug haben, dann wird dieser Zug in eine Variable `main_entry` geladen und aus dieser der Zug extrahiert.\n",
    "\n",
    "Nachdem dies durchgeführt wurde, muss das Opening-Book geschlossen werden, damit es bei der nächsten Verwendung korrekt genutzt werden kann. Ebenfalls wird der erfolgreich extrahierte Zug zurückgegeben."
   ]
  },
  {
   "cell_type": "code",
   "execution_count": null,
   "metadata": {},
   "outputs": [],
   "source": [
    "def get_opening_move(self, board, opening_book):\n",
    "        '''\n",
    "        get the current board and return move, as string, for this situation\n",
    "        '''\n",
    "        if not (opening_book is None):\n",
    "            try:\n",
    "                main_entry = opening_book.find(board)\n",
    "                move = main_entry.move()\n",
    "                opening_book.close()\n",
    "                return move\n",
    "            except IndexError:\n",
    "                return None\n",
    "        else:\n",
    "            return None"
   ]
  },
  {
   "cell_type": "markdown",
   "metadata": {},
   "source": [
    "## Implementierung des \"Iterative Deepening\"\n",
    "\n",
    "Die zentrale Aufgabe der KI ist es, den best möglichen Zug für eine gegebene Situation zu finden. Dabei geht diese so vor, dass sie alle möglichen Züge durchgeht und die daraus entstehenden Zustände analysiert und evaluiert. Dabei jedoch zählt nicht nur der direkt erreichbare Zustand zählt, sondern auch die aus diesem Zustand erreichbaren Zustände und so weiter. Aus diesem Grund wird immer bis zu einer bestimmten Tiefe in die Züge hineingeschaut und die sich daraus ergebenden Zustände evaluiert.\n",
    "\n",
    "Um dies jedoch nicht fest immer bis zu einer bestimmten Tiefe durchgehen zu lassen, sondern variabel anzupassen, je nachdem wie viele Züge von dem gegebenen Zustand aus möglich sind, kann ein Zeitlimit dienen. Dabei wird anfangs die Tiefe auf 1 gesetzt und dann mittels des Minimax-Algorithmus die Züge evaluiert. Danach wird die Tiefe um 1 erhöht und erneut der Minimax-Algorithmus angewandt. Dies wird solange wiederholt, bis die angegebene Zeit abgelaufen ist. Dieser Algorithmus nennt sich \"Iterative Deepening\". Nähere Informationen dazu sind in Kapitel INSERT aufgeführt. \n",
    "\n",
    "Dem Algorithmus muss dazu der aktuelle Zustand sowie eine maximale Tiefe mitgegeben werden. Ist diese erreicht bricht der Algorithmus ab, unabhängig davon, ob das Zeitlimit überschritten ist oder nicht. Zunächst müssen beim Ausführen dann einige Werte wie folgt festgelegt werden."
   ]
  },
  {
   "cell_type": "code",
   "execution_count": null,
   "metadata": {},
   "outputs": [],
   "source": [
    "depth = 1\n",
    "    \n",
    "start_time = int(time.time())\n",
    "end_time = start_time + self.time_limit\n",
    "current_time = start_time\n",
    "\n",
    "player = bool(board.turn)\n",
    "self.best_possible_result = self.get_best_possible_result(board, player)"
   ]
  },
  {
   "cell_type": "markdown",
   "metadata": {},
   "source": [
    "Zunächst wird die Starttiefe auf 1 festgesetzt. Danach wird die Startzeit auf die aktuelle Zeit gesetzt und die Endzeit berechnet, indem auf die Startzeit das Zeitlimit addiert wird. Zudem wird der erste Wert für die aktuelle Zeit auf die Startzeit festgelegt.\n",
    "\n",
    "Anschließend wird für den Spieler, der aktuell am Zug ist, berechnet, was das bestmöglich zu erreichende Resultat ist. Dies wird mit der Funktion `get_best_possible_result` durchgeführt. Dies ist dazu gut, um finale Zustände dahingehend zu evaluieren, ob diese für den Nutzer die best mögliche Option ist (Sieg oder Unentschieden wenn Sieg nicht mehr möglich ist) und dementsprechend zu bewerten. Die Funktion sieht wie folgt aus."
   ]
  },
  {
   "cell_type": "code",
   "execution_count": null,
   "metadata": {},
   "outputs": [],
   "source": [
    "def get_best_possible_result(self, board, player):\n",
    "    if player and board.has_insufficient_material(chess.WHITE):\n",
    "        return 0\n",
    "    if not player and board.has_insufficient_material(chess.BLACK):\n",
    "        return 0\n",
    "    if player and not board.has_insufficient_material(chess.WHITE):\n",
    "        return 1\n",
    "    if not player and not board.has_insufficient_material(chess.BLACK):\n",
    "        return -1"
   ]
  },
  {
   "cell_type": "markdown",
   "metadata": {},
   "source": [
    "Dabei muss der Funktion der aktuelle Zustand sowie der Spieler, der an der Reihe ist, mitgegeben werden. Ist der aktuelle Spieler der der weißen Figuren (player == True) und hat weiß unzureichende Materialien für einen Sieg, so ist der bestmögliche Zustand ein Patt. Das gleiche Ergebnis wird zurückgegeben, wenn der Spieler der der schwarzen Figuren ist (player == False) und schwarz unzureichende Materialien hat.\n",
    "\n",
    "Ist der Spieler jedoch weiß und er hat noch ausreichend Materialien, so wird der Wert 1 zurückgegeben, da ein Sieg noch erreichbar ist. Genauso wird für den schwarzen Spieler der Wert -1 zurückgegeben, falls er noch ausreichende Materialien besitzt, da dieser noch einen Sieg erreichen kann und der Wert -1 für einen Sieg von Schwarz steht.\n",
    "\n",
    "Nach dieser Abfrage wird der eigentliche Algorithmus des \"Iterative Deepening\" durchgeführt."
   ]
  },
  {
   "cell_type": "code",
   "execution_count": null,
   "metadata": {},
   "outputs": [],
   "source": [
    "legal_moves = list(board.legal_moves)\n",
    "while current_time < end_time and depth <= max_depth:\n",
    "    move_val_dict = {}\n",
    "\n",
    "    best_value = float('-inf')\n",
    "    best_move = legal_moves[0]\n",
    "\n",
    "    for move in legal_moves:\n",
    "        tmp_board = chess.Board(str(board.fen()))\n",
    "        tmp_board.push(move)\n",
    "\n",
    "        value = self.min_value(str(tmp_board.fen()), player, float('-inf'), float('inf'), depth - 1, end_time)\n",
    "        move_val_dict[move] = value\n",
    "\n",
    "        if value == MAX_BOARD_VALUE:\n",
    "            return move\n",
    "        if value > best_value:\n",
    "            best_value = value\n",
    "            best_move = move\n",
    "\n",
    "    legal_moves.sort(key=move_val_dict.get, reverse=True)\n",
    "    depth += 1\n",
    "    current_time = int(time.time())"
   ]
  },
  {
   "cell_type": "markdown",
   "metadata": {},
   "source": [
    "Dabei wird zunächst eine Liste aller legalen Züge erstellt. Dann wird eine Schleife so lange durchlaufen, bsi entweder die Zeit abgelaufen ist oder aber die maximale Tiefe erreicht ist. \n",
    "\n",
    "In dieser Schleife wird ein Dictionary aller Züge mit ihren berechneten Werte erstellt. Zudem werden Anfangswerte für die besten Züge und dessen Wert festgelegt. Der Anfangswert des besten Zugs wird auf den ersten Zug festgesetzt. Der Wert dieses wird auf den Wert \"- Unendlich\" gesetzt.\n",
    "\n",
    "Nun wird über alle legalen Züge iteriert und für jeden Zug ein temporärer \"board\" angelegt, das erreichbaren Zustand widerspiegelt. Nun wird mittels des Minimax-Algorithmus der Wert dieses boards ermittelt. Dabei wird als Alpha \"- Unendlich\" und als Beta \"Unendlich\" mitgegeben. Was die Werte Alpha und Beta aussagen, wird im Kapitel INSERT beschrieben. Zudem wird die Tiefe auf einen Wert festgelegt, der um einen Wert geringer ist als die maximale Tiefe, da durch Aufruf der Funktion in die erste Tiefe hineingegangen wurde. Zudem wird die Zeit mitgegeben, zu der der Algorithmus enden muss, damit der Minimax Algorithmus dementsprechend endet und das zeitlimit nicht überschreitet.\n",
    "\n",
    "Nachdem der Minimax-Algorithmus fertig durchlaufen ist, wird der Wert mit dem Zug zu dem Dictionary hinzugefügt. Gleicht der Wert dem maximalen Wert für einen Zustand, ist also dementsprechend ein Sieg, wird der Zug direkt zurückgegeben, da mit diesem dann auf jeden Fall ein Sieg erreich werdne kann. Andernfalls wird der Wert verglichen, ob er besser ist als der aktuelle Wert. Ist dies der Fall, so wird der neue beste Wert auf den aktuell berechneten festgelegt, ebenso wie der beste Zug auf den der aktuellen Iteration gesetzt wird.\n",
    "\n",
    "Nachdem alle Züge durchlaufen wurden, wird die Liste aller legalen Züge an Hand der berechneten Werte sortiert, damit im nächsten Durchlauf die Züge in dieser Reihenfolge durchlaufen werden. Dies verbessert den Durchsatz beim Alpha Beta Pruning, wie in Kapitel INSERT beschrieben und garantiert zudem, dass der beste Wert der vergangenen Runde gewählt wird, falls der Minimax-Algorithmus beim Durchlaufen der nächst tieferen Tiefe das Zeitlimit erreicht, bevor die Runde komplett evaluiert werden konnte.\n",
    "\n",
    "Abschließend wird noch die Tiefe um 1 erhöht und die aktuelle Zeit auf die Systemzeit gesetzt, damit an Hand dieser entschieden werden kann, ob der Algorithmus noch weiter durchlaufen darf.\n",
    "\n",
    "Nachdem dann die Zeit abgelaufen ist und alle Züge in der für die angegebenen Zeit maximalen Tiefe evaluiert wurden, wird der best mögliche Zug zurückgegeben. Dieser wird dann von der Ki ausgeführt."
   ]
  },
  {
   "cell_type": "markdown",
   "metadata": {},
   "source": [
    "## Implementierung des Minimax-Algorithmus mit Alpha-Beta-Pruning\n",
    "\n",
    "Um den bestmöglichen Zug zu erkennen, wird beim Minimax Algorithmus jeder Zug bis zu einer gewissen Tiefe betrachtet. Dabei wird unter der Prämisse gehandelt, dass auch der Gegner stets den besten Zug macht. Dies führt dazu, dass der bestmöglichste Zug ausgewählt wird (max), der erreichbar ist, wenn der Gegner mit dem für ihn jeweils besten Zug antwortet, der für den Spieler somit der schlechteste ist (min). Genauer ist dies in Kapitel INSERT erklärt.\n",
    "\n",
    "Die Umsetzung dabei erfolgt in zwei Funktionen - `min_value` und `max_value`. Erstere berechnet dabei den schlecht möglichsten Ausgang für den Spieler aus einer bestimmten Position, also den besten Ausgang für den Gegner. Letztere berechnet den best möglichsten Ausgang. Beide Funktionen sind sehr ähnlich aufgebaut und in folgendem Code-Snippet zu sehen."
   ]
  },
  {
   "cell_type": "code",
   "execution_count": null,
   "metadata": {},
   "outputs": [],
   "source": [
    "def min_value(self, board_fen, player, alpha, beta, depth, time_limit):\n",
    "    board = chess.Board(board_fen)\n",
    "    v = float('inf')\n",
    "\n",
    "    if board.is_game_over() or depth == 0:\n",
    "        return self.evaluate_board(board, player)\n",
    "    if int(time.time()) >= time_limit:\n",
    "        return float(\"-inf\")\n",
    "\n",
    "    for move in board.legal_moves:\n",
    "        tmp_board = chess.Board(board_fen)\n",
    "        tmp_board.push(move)\n",
    "        v = min(v, self.max_value(str(tmp_board.fen()), player, alpha, beta, depth -1, time_limit))\n",
    "        if v <= alpha:\n",
    "            return v\n",
    "        beta = min(beta, v)\n",
    "    return v"
   ]
  },
  {
   "cell_type": "markdown",
   "metadata": {},
   "source": [
    "Neben dem akteullen Zustand des Spiels in fen Notation und dem Spieler, für den es den Zustand zu evaluieren gilt, wird außerdem eine Tiefe sowie ein Zeitlimit mitgegeben sowie die Werte Alpha und Beta. Alpha und Beta sind dabei, wie in Kapitel INSERT erklärt, dazu da, um den Minimax-Algorithmus zu beschleunigen, indem nicht jeder mögliche Zustand betrachtet wird. Durch diese Werte fallen nämlich solche weg, die direkt als irrelevant betrachtet werden können, da ohnehin bereits ein besserrer (im Fall von `min_value`) bzw. schlechterer (im Fall von `max_value`) Wert gefunden wurde.\n",
    "\n",
    "Nachdem das Schachbrett über die fen-Notation erstellt wurde, wird überprüft, ob das Spiel bereits vorbei ist oder die mitgegebene Tiefe auf 0 liegt. In beiden Fällen wird der aktuelle Zustand direkt evaluiert und zurückgegeben. Ansonsten wird geprüft, ob das übergebene Zeitlimit bereits erreicht wurde. In dem Fall wird der maximal negative Wert zurück gegeben, damit dieser Zug keine weitere Beachtung mehr bei der endgültigen Auswahl findet.\n",
    "\n",
    "Ist auch dies nicht der Fall, werden alle von dem gegebenen Zustand aus erreichbaren Zustände durchgegangen. Dazu wird zunächst ein temporäres Schachbrett - hier board - erstellt und der Zug auf diesem ausgeführt. Dies ist dann der neue, erreichbare Zustand. Dieser wird dann in die nächst tiefere Iteration gegeben, bei der nun der maximale Wert gesucht wird. Dabei wird auch der Spieler mitgegeben sowie die Werte Alpha und Beta und das Zeitlimit ebenso wie die um eins reduzierte Tiefe. Ist dabei ein Wert dabei, der kleiner ist als das aktuelle v, wird dieser Wert als das neue v genommen. Andernfalls bleibt v beim akteullen Wert.\n",
    "\n",
    "Anschließend wird überprüft, ob der Wert v kleiner ist als der aktuelle Alpha Wert. Ist dies der Fall, muss der Pfad keine weitere Beachtung finden und es kann direkt v zurück gegeben werden. ist dies nicht der Fall, so wird Beta auf v gesetzt, falls dieser Wert kleiner als das aktuelle Beta ist. Nach Durchgang aller legalen Züge wird dann der sich aus all diesen Iterationen ergebende Wert v zurück gegeben.\n",
    "\n",
    "Die `max_value` Funktion läuft similar ab, mit dem einzigen Unterschied, dass hier der maximale statt der minmale Wert gesucht wird und dementsprechend die Vergleiche sowie Startwerte angepasst sind. Außerdem gibt dieser bei der um eins tieferen Iteration in die `min_value` Funktion, an der Stelle, an der diese in die `max_value` Funktion gibt. Der restliche Aufbau bleibt unverändert."
   ]
  },
  {
   "cell_type": "code",
   "execution_count": null,
   "metadata": {},
   "outputs": [],
   "source": [
    "def max_value(self, board_fen, player, alpha, beta, depth, time_limit):\n",
    "    board = chess.Board(board_fen)\n",
    "    v = float('-inf')\n",
    "\n",
    "    if board.is_game_over() or depth == 0:\n",
    "        return self.evaluate_board(board, player)\n",
    "    if int(time.time()) >= time_limit:\n",
    "        return float(\"inf\")\n",
    "\n",
    "    for move in board.legal_moves:\n",
    "        tmp_board = chess.Board(board_fen)\n",
    "        tmp_board.push(move)\n",
    "        v = max(v, self.min_value(str(tmp_board.fen()), player, alpha, beta, depth -1, time_limit))\n",
    "        if v >= beta:\n",
    "            return v\n",
    "        alpha = max(alpha, v)\n",
    "    return v"
   ]
  },
  {
   "cell_type": "markdown",
   "metadata": {},
   "source": [
    "Mit diesem Algorithmus wird ein Baum aus allen Pfaden erstellt, an Hand der der beste Zug ermittelt werden kann wie in Kapitel INSERT beschrieben. Da es sich jedoch nur selten um Endzustände handelt, für die eine Bewertung trivial erfolgen kann, ist eine Evaluierung der Zustände nötig. Diese wird im nächsten Kapitel beschrieben."
   ]
  },
  {
   "cell_type": "markdown",
   "metadata": {},
   "source": [
    "## Einbinden und Verwendung von Endspiel Datenbanken\n",
    "Nachdem das Eröffnungsspiel und der Hauptteil des Spiels abgeschlossen ist und bereits durch Opening-Books und Alpha-Beta-Suche realisiert wurde, befinden sich auf dem Schachfeld nur noch wenige Figuren. Analog zu den Opening-Books wurden bereits viele Endspiele analysiert und für Spielsituationen die optimalen Züge evaluiert. Diese Informationen sind in den Endspiel Datenbanken persistiert, welche eine Auskunft darüber geben welche der spielenden Parteien am Gewinnen bzw. Verlieren ist und wie weit diese von einem Schlagzug entfernt sind. Näheres dazu ist in Kapitel INSERT zu finden.\n",
    "\n",
    "Durch diese Informationen gepaart mit dem Minimax-Algorithmus lässt sich der optimale Zug im Endspiel finden.\n",
    "\n",
    "Das Einbinden der Endspiel Datenbank ähnelt sehr stark dem der Opening-Books. Ebenfalls muss zuerst in einer Konstanten der Pfad zu der Endspiel Datenbank angegeben werden."
   ]
  },
  {
   "cell_type": "code",
   "execution_count": null,
   "metadata": {},
   "outputs": [],
   "source": [
    "SYZYGY_LOC = \"res/syzygy\""
   ]
  },
  {
   "cell_type": "markdown",
   "metadata": {},
   "source": [
    "Ebenfalls analog zu dem Vorgehen bei Opening-Books wird in der Funktion `import_syzygy(self, syzygy_location)`, zum Importieren der Datenbank, der Pfad übergeben, der zu den benötigten Daten führt. Der Unterschied in dieser Funktion zu der bei den Opening-Books liegt daran, dass die Daten der Datenbank sich in mehreren Dateien befinden und diese sich in einem Ordner befinden. Dafür muss überprüft werden, ob der übergebene Pfad tatsächlich auf ein Verzeichnis verweist. Falls dies gegeben ist, dann kann die Funktion `syzygy.open_tablebase(syzygy_location)` der \"chess\"-Bibliothek aufgerufen werden, die die Datenbank importiert. Nachdem die Daten innerhalb dieser Funktion vorliegen können sie zurückgegeben werden.\n",
    "\n",
    "Sollte der übergebene Pfad nicht auf ein verfügbares Verzeichnis verweisen, dann wird ebenfalls ein _File Not Found Error_ geworfen, der den angegebenen Pfad enthält."
   ]
  },
  {
   "cell_type": "code",
   "execution_count": null,
   "metadata": {},
   "outputs": [],
   "source": [
    "def import_syzygy(self, syzygy_location):\n",
    "        '''\n",
    "        load a syzygy tablebase\n",
    "        raise an error if system cannot find the file\n",
    "        '''\n",
    "        if os.path.isdir(syzygy_location):\n",
    "            return chess.syzygy.open_tablebase(syzygy_location)\n",
    "        else:\n",
    "            raise FileNotFoundError(\n",
    "                errno.ENOENT, os.strerror(errno.ENOENT), syzygy_location)"
   ]
  },
  {
   "cell_type": "markdown",
   "metadata": {},
   "source": [
    "Wie bereits aus dem Importieren der Opening-Books bekannt, wird die benötigte Funktion im Konstruktor der Klasse KI aufgerufen."
   ]
  },
  {
   "cell_type": "code",
   "execution_count": null,
   "metadata": {},
   "outputs": [],
   "source": [
    "self.syzygy = self.import_syzygy(SYZYGY_LOC)"
   ]
  },
  {
   "cell_type": "markdown",
   "metadata": {},
   "source": [
    "Zur Berechnung der Partei, die sich aktuell im Vorteil befindet wird die folgende Funktion `get_dtz_value(self, tablebase, board)` benötigt, die den DTZ-Wert berechnet. Dieser Wert wird auf der Basis des aktuellen Spielzustandes in Form der Variable `board` und der Datenbank in Form der Variable `tablebase` übergeben.\n",
    "\n",
    "Daraufhin wird mittels eines try-except und der Funktion `probe_dtz(board)` versucht den DTZ Wert zu bestimmen. Das Abfangen eines möglichen _Key Error_ wird in diesem Fall benötigt, da die Funktion `probe_dtz` der \"chess\" Bibliothek diesen Fehler wirft, wenn der aktuelle Spielzustand zu viele Steine, oder Informationen zu en passant oder einer Rochade enthält.\n",
    "\n",
    "Die in der Künstlichen Intelligenz verwendete Datenbank unterstützt Endspiele mit bis zu fünf Steinen, jedoch wird dabei nicht auf die Sonderregeln en passant und Rochade geachtet.\n",
    "\n",
    "Wenn der DTZ-Wert bestimmt werden konnte wird diese an die Stelle zurückgegeben an der die Funktion `get_dtz_value` aufgerufen wurde. Falls es zu einem _Key Error_ kommen sollte wird der Wert `None` zurückgegeben."
   ]
  },
  {
   "cell_type": "code",
   "execution_count": null,
   "metadata": {},
   "outputs": [],
   "source": [
    "def get_dtz_value(self, tablebase, board):\n",
    "        try:\n",
    "            return tablebase.probe_dtz(board)\n",
    "        except KeyError:\n",
    "            return None"
   ]
  },
  {
   "cell_type": "markdown",
   "metadata": {},
   "source": [
    "## Evaluierung eines gegebenen Schachbretts"
   ]
  },
  {
   "cell_type": "markdown",
   "metadata": {},
   "source": [
    "Um gegebene Zustände auch mitten im Spiel bewerten zu können, müssen diese an Hand bestimmter Kriterien bewertet werden können, die über Sieg oder Niederlage hinausgehen. Dazu gibt es verschiedene Ansätze, wie in Kapitel INSERT erläutert. Einige davon wurden im Laufe des Projektes umgesetzt und implementiert. Diese werden in diesem Kapitel erläutert. Zunächst jedoch gilt es aufzuzeigen, wie die Evaluierung der Zustände im generellen umgesetzt wird.\n",
    "\n",
    "Zunächst wird zum Evaluieren eines Zustandes jener Zustand sowie der Spieler, für den dieser zu evaluieren ist, in die Funktion `evaluate_board` gegeben, die die Evaluierung zentral verwaltet. "
   ]
  },
  {
   "cell_type": "code",
   "execution_count": null,
   "metadata": {},
   "outputs": [],
   "source": [
    "def evaluate_board(self, board, player):\n",
    "    player_color = chess.WHITE if player else chess.BLACK\n",
    "\n",
    "    if board.is_game_over():\n",
    "        result = Tools.get_board_result(board)\n",
    "        if result is self.best_possible_result:\n",
    "            return MAX_BOARD_VALUE\n",
    "        if result is -1:\n",
    "            return -1 * MAX_BOARD_VALUE\n",
    "\n",
    "    evaluation_val = 0\n",
    "    for func, value in self.evaluation_funcs_dict.items():\n",
    "        if value > 0:\n",
    "            evaluation_val = evaluation_val + value * func(board, player_color)\n",
    "    return evaluation_val"
   ]
  },
  {
   "cell_type": "markdown",
   "metadata": {},
   "source": [
    "Dabei wird zunächst an Hand des Spielers die Farbe dieses ermittelt, die später bei den einzelnen Evaluierungsfunktionen benötigt wird.\n",
    "\n",
    "Dann wird für den Fall, dass der gegebene Zustand einem Endzustand gleicht, das Ergebnis dieses ermittelt. Gleicht dieses dem bestmöglichen Ergebnis, dass mittels der `get_board_result` Funktion zuvor ermittelt wurde (siehe INSERT), so wird der maximale Wert (Unendlich) für den Zusand zurückgegeben. Ist das Ergebnis des übermittelten Zustands jedoch eine Niederlage, so wird der maximale Wert umgekehrt und zurückgegeben (minus Unendlich). \n",
    "\n",
    "Gleicht der Zustand keinem Endzustand, so werden bestimmte Evaluationsfunktionen durchlaufen und aufaddiert. Dazu startet der Wert bei 0 und für jede Evaluierungsfunktion wird das Ergebnis dieser multipliziert mit einem festgelegten Faktor zu dem Gesamtwert aufaddiert. Die Faktoren sowie die durchzuführenden Evaluierungsfunktionen sind dabei abhängig vom Schwierigkeitsgrad der KI sowie vom Spielstatus (Eröffnung, Mittelspiel, Endspiel).\n",
    "\n",
    "Dabei werden zur Performanz-Steigerung jedoch nur Evaluierungsfunktionen durchgegangen, dessen Faktor höher als 0 liegt. Der Grund dafür ist, dass bestimmte Funktionne je nach Spielstatus leichter aus der Evaluierung herausgenommen werden können, ohne, dass das gesamte Dictionary angepasst werden muss und zudem keine unnötige Rechenzeit durch Berechnung eines Werts benötigt wird, der im Endeffekt ohnehin nicht zum Evaluierungswert aufaddiert wird.\n",
    "\n",
    "Der daraus entstehende Evaluierungswert, der zurückgegeben wird, gibt einen guten Aufschluss über den Wert des aktuellen Zustands. Dazu werden verschiedene Evaluierungsfunktionen verwendet, wie in folgendem Abschnitt zu sehen ist."
   ]
  },
  {
   "cell_type": "markdown",
   "metadata": {},
   "source": [
    "### Materialbewertung\n",
    "\n",
    "Eine zentrale sowie einfache Bewertung ist dabei die Bewertung der vorhandenen Materialien auf dem Spielfeld. Dabei werden alle Figuren der jeweiligen Spieler zusammengezählt und je nach Figur mit einem Wert multipliziert. \n",
    "\n",
    "Dabei ist zunächst jedem Figurentyp ein Wert zuzuweisen. Üblicherweise werden Bauern dabei 1 Punkt, Türmen 5 Punkte, Springern sowie Läufern jeweils 3 Punkte und der Dame 9 Punkte zugeordnet. Diese werden dann zusammengerechnet."
   ]
  },
  {
   "cell_type": "code",
   "execution_count": null,
   "metadata": {},
   "outputs": [],
   "source": [
    "def get_value_by_color(color):\n",
    "    attacked_pieces_value = map(lambda piece_type : len(board.pieces(piece_type, color)) * assign_piece_value(piece_type), chess.PIECE_TYPES)\n",
    "    return sum(attacked_pieces_value)\n",
    "\n",
    "def get_board_value():\n",
    "    white_value = get_value_by_color(chess.WHITE)\n",
    "    black_value = get_value_by_color(chess.BLACK)\n",
    "    \n",
    "    return white_value - black_value if color is chess.WHITE else black_value - white_value"
   ]
  },
  {
   "cell_type": "markdown",
   "metadata": {},
   "source": [
    "Um den Gesamtwert des Schachbretts zu berechnen muss zunächst der Wert aller weißer Figuren berechnet werden und von diesem der Wert aller schwarzen Figuren abgezogen werden. Je nach angegebenen Spieler wird für diesen ein positiver Wert zurückgegeben, wenn das Spiel zu dessen Gunsten verläuft und ein negativer, wenn dies nicht der Fall ist.\n",
    "\n",
    "Damit die Werte der Spieler berechnet werden können, wird die Anzahl aller Figurentypen der jeweiligen Farbe berechnet und diese mit dem Wert der Figurentypen multipliziert. Am Ende werden die Ergebnisse für alle Figurentypen zusammengezählt und zurückgegeben."
   ]
  },
  {
   "cell_type": "markdown",
   "metadata": {},
   "source": [
    "### Materialbewertung attackierter Figuren\n",
    "\n",
    "Die Berechnung der attackierten Figuren ist ähnlich zu dem Vorgehen bei der Berechnung des Brettwerts. Dabei werden erst die Werte, der vom weißen Spieler attackierten Figuren berechnet und davon die Werte der vom schwarzen Spieler attackierten Figuren abgezogen. Auch hierbei ist ein positives Ergebnis zum Vorteil des angegebenen Spielers und ein negativer Wert zum Vorteil des Gegenübers. Ebenso gilt umso höher der Wert, desto deutlicher der Vorteil."
   ]
  },
  {
   "cell_type": "code",
   "execution_count": null,
   "metadata": {},
   "outputs": [],
   "source": [
    "def get_attacked_pieces_value_by_color(attacker_color, defender_color):\n",
    "    attackedSquares = filter(lambda square : board.is_attacked_by(attacker_color, square) and not board.piece_at(square) is None and board.piece_at(square).color is defender_color, chess.SQUARES)\n",
    "    attackedPieces = map(lambda square : board.piece_at(square).piece_type, attackedSquares)\n",
    "    value = map(assign_piece_value, attackedPieces)\n",
    "    return sum(value)\n",
    "     \n",
    "def get_attacked_pieces_value():\n",
    "    white_value = get_attacked_pieces_value_by_color(chess.WHITE, chess.BLACK)\n",
    "    black_value = get_attacked_pieces_value_by_color(chess.BLACK, chess.WHITE)\n",
    "    \n",
    "    return white_value - black_value"
   ]
  },
  {
   "cell_type": "markdown",
   "metadata": {},
   "source": [
    "Um diese Werte der attackierten Figuren zu berechnen wird jedes Feld durchgegangen. Daraus werden die Felder gefiltert, die von einer Figur der Farbe des Verteidigers belegt sind und von einer Figur der angreifenden Farbe attackiert werden können. Anschließend wird zu diesen Feldern der Typ der Figur zugeordnet, die sich auf dem Feld befindet. Daraufhin werden diesen ihre jeweiligen Werte zugeordnet und diese abschließend summiert."
   ]
  },
  {
   "cell_type": "markdown",
   "metadata": {},
   "source": [
    "### Positionsbewertung\n",
    "\n",
    "Um die Positionen der einzelnen Figuren zu bewerten, werden zunächst für jeden Figurentypen Matrizen benötigt, die über jedes Feld eine Aussage über den Wert der Position der Figur geben. Diese sind in Kapitel INSERT einsehbar. An Hand dieser Matrizen wird dann Aussage über den Wert getroffen.\n",
    "\n",
    "Dabei wird zunächst jedes Feld auf dem Schachbrett durchgegangen und die darauf befindliche Figur berechnet. Dies wird mittels einer verschachtelten Schleife gelöst, die zunächst alle Reihen durchgeht und dann die einzelnen Felder in dieser Reihe."
   ]
  },
  {
   "cell_type": "code",
   "execution_count": null,
   "metadata": {},
   "outputs": [],
   "source": [
    "def get_board_positions_value_by_color(board, color):\n",
    "    sum = 0\n",
    "    for rank in range(0,8):\n",
    "        for file in range(0,8):\n",
    "            piece = board.piece_at(chess.square(file, rank))\n",
    "            if (piece and piece.color == color):\n",
    "                piece_pos_value = get_position_value_by_square(board, rank, file, color)\n",
    "                sum += piece_pos_value\n",
    "    return sum"
   ]
  },
  {
   "cell_type": "markdown",
   "metadata": {},
   "source": [
    "Nachdem die Figur ermittelt wurde wird diese, falls diese der angegebenen Farbe angehört, gemeinsam mit den Werten für Reihe und Spalte an die Funktion `get_position_value_by_square` übergeben. Nachdem diese den Wert zurückgegben hat wird dies zu der bisherigen Summe aufaddiert und am Ende die Summe aller Figuren zurück gegeben.\n",
    "\n",
    "In der Funktion `get_position_value_by_square` wird mittels der Matrix der Wert der Figur an der gegebenen Position ermittelt."
   ]
  },
  {
   "cell_type": "code",
   "execution_count": null,
   "metadata": {},
   "outputs": [],
   "source": [
    "def get_position_value_by_square(board, rank, file, color):\n",
    "    piece_type = board.piece_type_at(chess.square(file, rank))\n",
    "    piece_matrix = assign_piece_matrix(piece_type) if color == chess.BLACK else np.flip(assign_piece_matrix(piece_type))\n",
    "    piece_pos_value = piece_matrix[rank,file]\n",
    "    return piece_pos_value"
   ]
  },
  {
   "cell_type": "markdown",
   "metadata": {},
   "source": [
    "Dazu wird zunächst der Typ der Figur auf dem gegebenen Feld ermittelt. Dann wird die dazu passende Matrix bestimmt und entsprechend gespiegelt, falls die Farbe des angegebenen Spielers weiß sein sollte, damit die Matrix mit den Positionen aus der Sicht des Spielers übereinstimmt.\n",
    "\n",
    "Schlussendlich wird der Wert in der Matrix über die Reihe und Spalte ermittelt und zurück gegeben. "
   ]
  },
  {
   "cell_type": "markdown",
   "metadata": {},
   "source": [
    "### Königszonen-Sicherheit\n",
    "\n",
    "Ein weiterer, wichtiger Wert ist die Sicherheit des Königs bemessen an Hand der Figuren, die dessen Zone angreifen. \n",
    "\n",
    "Dazu wird diese Zone berechnet und dann alle Figuren, die diese Zone angreifen ermittelt. Mittels der in Kapitel INSERT vorgestellten Berechnung wird dann der Wert des Angriffs auf die Königszone berechnet. "
   ]
  },
  {
   "cell_type": "code",
   "execution_count": null,
   "metadata": {},
   "outputs": [],
   "source": [
    "def calculate_king_zone_safety(board, color):\n",
    "    attacker_color = chess.WHITE if color == chess.BLACK else chess.BLACK\n",
    "    king_zone = calculate_king_zone(board, color)\n",
    "    attackers = get_attackers_by_squares(board, king_zone, attacker_color)\n",
    "    attack_weight = get_king_attack_weight(len(attackers))\n",
    "    value_of_attack = 0\n",
    "    for attacker in attackers:\n",
    "        value_of_attack += get_king_attack_constants(attacker.piece_type)\n",
    "    \n",
    "    return (value_of_attack * attack_weight) / 1000"
   ]
  },
  {
   "cell_type": "markdown",
   "metadata": {},
   "source": [
    "Dabei wird zuerst die Farbe des Angreifers berechnet, indem die gegebene Farbe umgekehrt wird. Danach wird mittels der Funktion `calculate_king_zone` die Königszone berechnet. Diese Funktion gibt eine Menge von Feldern zurück, die der Königszone angehören."
   ]
  },
  {
   "cell_type": "code",
   "execution_count": null,
   "metadata": {},
   "outputs": [],
   "source": [
    "def calculate_king_zone(board, color):\n",
    "    king_zone = chess.SquareSet()\n",
    "    king_rank, king_file = get_piece_position(board, chess.Piece(chess.KING, color))\n",
    "\n",
    "    rank_range = range(0,4) if color == chess.WHITE else range(-3, 1)\n",
    "    for rank_summand in rank_range:\n",
    "        if (king_rank + rank_summand) in range(0, 8):\n",
    "            for file_summand in range(-1, 2):\n",
    "                if (king_file + file_summand) in range (0,8):\n",
    "                    king_zone.add(chess.square(king_file + file_summand, king_rank + rank_summand))\n",
    "    \n",
    "    return king_zone"
   ]
  },
  {
   "cell_type": "markdown",
   "metadata": {},
   "source": [
    "Um dies zu ermöglichen, wird zunächst die Position des Königs ermittelt. Dabei werden alle Felder durchgegangen bis der König der entsprechenden Farbe gefunden wurde. Dann wird Reihe sowie Spalte zurückgegeben.\n",
    "\n",
    "Nun werden alle Felder der Königszone einzeln durchgegangen und zu der Menge an Feldern hinzugeführt. Dabei werden bei den Spaltel alle Felder bis 3 Felder in Richtung des Gegners durchgegangen und für jede Spalte ein Feld links bis zu einem Feld rechts von dem König mitgezählt. Dabei wird zuvor jeweils überprüft, ob sich die Spalte beziehungsweise die Reihe noch au fdem Spielfeld befinden. Ist dies der Fall, wird das Feld der Menge hinzugefügt und diese wird am Ende zurück gegeben.\n",
    "\n",
    "Als nächstes wir ddann für diese Menge an Feldern ermittelt, welche Figuren diese Felder angreifen. Dies wird mittels der `get_attackers_by_squares` Funktion durchgeführt."
   ]
  },
  {
   "cell_type": "code",
   "execution_count": null,
   "metadata": {},
   "outputs": [],
   "source": [
    "def get_attackers_by_squares(board, square_set, attacker_color):\n",
    "    attacker_dict = {}\n",
    "    for square in square_set:\n",
    "        attacker_square_set = board.attackers(attacker_color, square)\n",
    "        for attacker_square in attacker_square_set:\n",
    "            attacker_piece = board.piece_at(attacker_square)\n",
    "            if not (attacker_piece.piece_type is chess.PAWN or attacker_piece.piece_type is chess.KING):\n",
    "                attacker_dict[attacker_piece] = attacker_dict.get(attacker_piece, 0) + 1\n",
    "    return attacker_dict"
   ]
  },
  {
   "cell_type": "markdown",
   "metadata": {},
   "source": [
    "Dabei wird jedes Feld einzeln durchgegangen und für alle jeweils eine Menge an Figuren erstellt, die dieses Feld angreifen. Alle Angriefer werden dann einzeln durchgegangen und dessen Figurentyp ermittelt. Wenn dies weder ein Bauer noch ein König ist, wird die Figur einem Dictionary von allen Angreifern hinzugefügt. Der Wert dieses Eintrags setzt sich aus der Anzahl zusammen, wie viele Felder von dieser Figur angegriffen werden. Dieses Dictionary wird nach Durchgang jedes Feldes zurückgegeben.\n",
    "\n",
    "Nachdem dieses Dictionary zurückgegeben wurde, wird die Gewichtung der Attacke ermittelt. Dabei wird die Anzahl der verschiedenen Figuren, die die Zone angreifen, zur Hilfe genommen und ein ensprechender Wert zurückgegeben, wie in Kapitel INSERT beschrieben.\n",
    "\n",
    "Abschließend wird für jeden Angreifer noch der Wert dieses ermittelt, wie ebenfalls in Kapitel INSERT beschrieben, und diese alle aufaddiert. Dieser Wird wird dann mit dem berechneten Gewicht multipliziert und durch 1000 dividiert. Das Ergebnis aus dieser Berechnung wird dann zurückgegeben und gibt einen Aufschluss über die Sicherheit des Königs. Dies kann auch für die Sicherheit des gegnerischen Königs angewandt werden, indem schlicht die Farbe des Angreifers auf die eigene Farbe gesetzt wird."
   ]
  },
  {
   "cell_type": "markdown",
   "metadata": {},
   "source": [
    "### Mobilität"
   ]
  },
  {
   "cell_type": "markdown",
   "metadata": {},
   "source": [
    "### Bewertung an Hand angelegter Historie\n",
    "\n",
    "Besonders am Anfang des Spiels ist es oft unschlüssig, wie man ein Schachbrett bewerten kann, da noch sehr viele Optionen des Spielverlaufs offen sind. Dabei kann eine angelegte Historie helfen, die Aufschluss über Siegchancen geben kann. Wie eine solche Historie angelegt werden kann, wurde in Kapitel INSERT besprochen."
   ]
  },
  {
   "cell_type": "code",
   "execution_count": null,
   "metadata": {},
   "outputs": [],
   "source": [
    "def get_board_value_by_history(board, color):\n",
    "    dataset = pd.read_csv(HISTORY_FILE_LOC)\n",
    "    row = dataset.loc[dataset['board'] == board.fen().split(\" \")[0]]\n",
    "    value = row['value'].item() if len(row['value']) == 1 else 0\n",
    "    return value if color is chess.WHITE else -1*value"
   ]
  },
  {
   "cell_type": "markdown",
   "metadata": {},
   "source": [
    "Abgefragt werden kann diese, indem zunächst die Daten aus der Datei geladen werden. Dann wird die Reihe abstrahiert, dessen Wert in der Spalte \"board\" dem mitgegebenen Zustand (in fen Notation konvertiert) gleicht. Dazu wird der entsprechende Wert ausgelesen und zurückgegeben. Beim Zurückgeben wird der Wert noch negiert, falls der angegebene Spieler der der schwarzen Figuren ist, da in der Historie die Werte aus Sicht des Spielers der weißen Figuren gespeichert wird."
   ]
  },
  {
   "cell_type": "markdown",
   "metadata": {},
   "source": [
    "## Ausgabe des Schachbretts und Eingabe von Schachzügen\n",
    "Nachdem die Schach-KI bereits Berechnungen durchführen und somit auf Schachzüge reagieren kann ist die Visualisierung des Spielverlaufs ein essenzieller Bestandteil, wenn ein Spieler mit der KI spielen soll. Dabei hat die Visualisierung einerseits die Aufgabe die aktuelle Spielsituation zu illustrieren, als auch andererseits die vom Spieler gewählten Züge entgegenzunehmen. \n",
    "\n",
    "### Visualisierung des Spielverlaufs mittels ASCII-Zeichen in der Konsole\n",
    "In Kapitel INSERT sind die Kriterien für diese wissenschaftliche Arbeit aufgelistet und ein wichtiger Aspekt dabei ist die Visualisierung des Spiels mittels ASCII-Zeichen in der Konsole. Damit das Schachbrett angezeigt werden kann werden zwei verschiedene Bibliotheken benötigt.\n",
    "\n",
    "`sty` ist eine Python Bibliothek, die die Hintergrund- und Schriftfarbe in der Konsole für einzelne Zeichen angeben kann. Hierbei unterstützt die Bibliothek verschiedene 24bit Farben, die eine optimale Auswahl an Farben für das Schachbrett garantieren. Eine Hürde bei der Umsetzung ist, dass Microsoft Windows Betriebssysteme aktuell Probleme mit der Visualisierung und der Verwendung dieses Moduls hat. Um jedoch trotzdem ein Schachbrett mit unterschiedlich farbigen Feldern und Figuren, die sich von dem Hintergrund der Konsole abheben, garantieren zu können wird die Bibliothek `colorama` benötigt. \n",
    "\n",
    "`colorama` ist ebenfalls eine Python Bibliothek, mittels der Hintergrund- und Schriftfarbe angegeben werden kann. Jedoch ist der Farbraum auf acht verschiedene Farben begrenzt und bietet somit im Gegensatz zu `sty`, bei der Bibliothek 16.777.216 verschiedene Farben verfügbar sind, eine weniger gut unterscheidbare Farbpalette für die Visualisierung des Schachbretts.\n",
    "\n",
    "Aus der Bibliothek `sty` muss `fg` für die Darstellung der Schriftfarbe, `bg` für die Darstellung der Hintergrundfarbe und `rs` importiert werden. `rs` wird benötigt um die Farben nach Verwendung wieder auf die Standardfarben der Konsole zu setzen.\n",
    "\n",
    "Hingegen muss aus der Bibliothek `colorama` die Funktion `init` importiert werden, die speziell für die Visualisierung der Farben auf Mircrosoft Windows Betriebssystemen benötigt wird. Dabei filtert die Funktion `init` die ANSI Zeichenketten, da diese von Microsoft Windows Produkten nicht untertstütz wird und ersetzt diese durch die äquivalenten Windows Befehle.\n",
    "\n",
    "Ebenfalls wird aus `colorama` die Unterstützung für die Veränderung von Schrift- und Hintergrundfarben `Fore`/`Back` importiert."
   ]
  },
  {
   "cell_type": "code",
   "execution_count": null,
   "metadata": {},
   "outputs": [],
   "source": [
    "from sty import fg, bg, rs\n",
    "from colorama import init\n",
    "from colorama import Fore, Back"
   ]
  },
  {
   "cell_type": "markdown",
   "metadata": {},
   "source": [
    "Neben dem Import der benötigten Module werden Konstanten definiert, die im weiteren Verlauf der Visualisierung mehrfach benötigt werden. Hierunter fällt die Definition der Hintergrund- und Schriftfarben für `sty` und `colorama` und eine Liste, die alle benötigten Buchstaben eines Schachbretts enthält, die zur Benennung der X-Achse benötigt werden. Ebenfalls werden drei Konstanten definiert, die eine Anweisung für den Nutzer enthalten und zu einem passenden Zeitpunkt ausgegeben werden, wie bspw. die Eingabe des zu verwendenden Zuges des Nutzers."
   ]
  },
  {
   "cell_type": "code",
   "execution_count": null,
   "metadata": {},
   "outputs": [],
   "source": [
    "FG_BLACK = fg(0, 0, 0)\n",
    "FG_WHITE = fg(255, 255,255)\n",
    "BG_BLACK = bg(222, 184, 135)\n",
    "BG_WHITE = bg(211, 211, 211)\n",
    "\n",
    "FG_BLACK_WIN = Fore.BLACK\n",
    "FG_WHITE_WIN = Fore.RED\n",
    "BG_BLACK_WIN = Back.YELLOW\n",
    "BG_WHITE_WIN = Back.GREEN\n",
    "\n",
    "NUM_TO_ALPHABET = [\" \",\"A\", \"B\", \"C\", \"D\", \"E\", \"F\", \"G\", \"H\"]\n",
    "\n",
    "ASK_FOR_MOVE_MESSAGE = \"Possible Moves: {}\\nEnter your move: \"\n",
    "WRONG_INPUT_MESSAGE = \"Given move not in legal moves. Please repeat\"\n",
    "PLAYER_TURN_MESSAGE = \"\\n\\nIt's {}'s turn: \""
   ]
  },
  {
   "cell_type": "markdown",
   "metadata": {},
   "source": [
    "Damit die Schach-KI die Ausgabe je nach Betriebssystem ändern kann muss erst ermittelt werden, ob der Nutzer ein Microsoft Produkt nutzt, oder nicht. Dafür wird eine Funktion `os_is_windows` definiert, die als Rückgabewert ein Boolean-Wert gibt, ob es sich um ein Windows handelt, oder nicht."
   ]
  },
  {
   "cell_type": "code",
   "execution_count": null,
   "metadata": {},
   "outputs": [],
   "source": [
    "def os_is_windows(self):\n",
    "        return {\n",
    "            'linux1' : False,\n",
    "            'linux2' : False,\n",
    "            'darwin' : False,\n",
    "            'win32' : True\n",
    "        }[sys.platform]"
   ]
  },
  {
   "cell_type": "markdown",
   "metadata": {},
   "source": [
    "Verwendet wird die Funktion `os_is_windows` in `ensure_windows_compability`, die die Aufgabe hat die `colorama` Funktion `init()` zu verwenden, wenn es sich um ein Microsoft Betriebssystem handelt. Die Funktion `init` bekommt in diesem Fall den speziellen Übergabewert `autoreset=True`, der dafür zuständig ist die Schrift- und Hintergrundfarbe nach Verwendung von `colorama` auf die ursprüngliche zu stellen.\n",
    "\n",
    "Die Funktion `ensure_windows_compability` gibt den Boolean-Wert, ob es sich um ein Microsoft Betriebssystem handelt zurück."
   ]
  },
  {
   "cell_type": "code",
   "execution_count": null,
   "metadata": {},
   "outputs": [],
   "source": [
    "def ensure_windows_compability(self):\n",
    "        os_windows = self.os_is_windows()\n",
    "        if os_windows:\n",
    "            init(autoreset=True)\n",
    "        return os_windows"
   ]
  },
  {
   "cell_type": "markdown",
   "metadata": {},
   "source": [
    "Die zuletzt eingeführten Funktionen werden von dem Programm im Konstruktor aufgerufen und der Boolean-Wert der Variable `need_win_support` zugewiesen. Diese Variable wird im späteren Verlauf der Visualisierung benötigt um entscheiden zu können, ob das Modul `sty` oder `colorama` genutzt werden soll."
   ]
  },
  {
   "cell_type": "code",
   "execution_count": null,
   "metadata": {},
   "outputs": [],
   "source": [
    "self.need_win_support = self.ensure_windows_compability()"
   ]
  },
  {
   "cell_type": "markdown",
   "metadata": {},
   "source": [
    "Damit der Nutzer der Schach-KI schnell erkennen kann welche Figur sich auf welchem Feld befindet wird in der Visualisierung auf der X-Achse die Buchstaben A bis H angegeben. Zur Ausgabe dieser Zeichen wird die Funktion `print_alphabetical_description` verwendet, die mittels einer for-Schleife von 0 bis einschließlich 8 iteriert und nacheinander die Zeichen aus der `NUM_TO_ALPHABET` Konstante ausgibt.\n",
    "\n",
    "Das erste Zeichen, das ausgegeben wird ist ein Leerzeichen, da das Schachbrett zur besseren Navigation neben den Buchstaben auch Zahlen enthalten soll und somit diese erste Spalte nicht das Schachbrett, sondern die Zahlen sind.\n",
    "\n",
    "Die Python `print` Funktion wird während der gesamten Ausgabe des Schachbretts mit zusätzlichen Parametern ausgestattet, die den Inhalt zentrieren und diesem eine bestimmte Breite zuweisen. Ebenfalls ist es in Python 3 Standard, dass nach der `print` Funktion eine neue Zeile gestartet wird, dies wird mittels `end=''` umgangen, da das Schachbrett nicht jedes Feld in einer neuen Zeile besitzen soll."
   ]
  },
  {
   "cell_type": "code",
   "execution_count": null,
   "metadata": {},
   "outputs": [],
   "source": [
    "def print_alphabetical_description(self):\n",
    "        for i in range(0,9):\n",
    "            print(NUM_TO_ALPHABET[i].center(3), end='')\n",
    "        print(\"\\n\", end='')"
   ]
  },
  {
   "cell_type": "markdown",
   "metadata": {},
   "source": [
    "Um das Schachbrett besser ausgeben und Farben zuordnen zu können wird es in eine Matrix umgewandelt. Die Formatierung in eine Matrix wird in der Funktion `create_board_matrix(self, board)` umgesetzt, die als Übergabewert die aktuelle Spielsituation erhält. \n",
    "\n",
    "Aus dem Schachbrett wird mittels der Funktion `fen()` die aktuelle Schachsituation als Zeichenkette exportiert. Hierbei muss darauf geachtet werden, dass nur der erste Teil der Zeichenkette beachtet wird und nicht zusätzliche Informationen, wie bspw. die Partei, die am Zug ist, exportiert wird.\n",
    "\n",
    "Da das Board als Zeichenkette bspw. `8/2K5/4B3/3N4/8/8/4k3/8` so aussehen kann und die Informationen einer Zeile durch ein `/` voneinander getrennt sind, wird in einer for-Schleife pro Iteration die Informationen bis zum nächsten `/` ausgelesen. Daraufhin wird für jedes Element dieser Informationen überprüft, ob es sich um eine Zahl oder einen Buchstaben handelt. Sollte es sich um eine Zahl handeln, dann ist dies die Anzahl der freien Felder bis zum nächsten Zeichen oder der nächsten Zeile. Für jede Zahl wird ein Leerzeichen pro Höhe der Zahl zu einer Liste `line` hinzugefügt. Handelt es sich um keine Zahl, sondern um einen Buchstaben, dann ist dies eine Figur und diese wird ebenfalls zur Liste `line` hinzugefügt.\n",
    "\n",
    "Nach jeder Zeile wird die Liste `line` zu einer weiteren Liste `board_matrix` hinzugefügt, die nach Abschluss der Funktion `create_board_matrix` zurückgegeben wird."
   ]
  },
  {
   "cell_type": "code",
   "execution_count": null,
   "metadata": {},
   "outputs": [],
   "source": [
    "def create_board_matrix(self, board):\n",
    "        board_fen = board.fen().split(\" \")[0]\n",
    "        board_matrix = []\n",
    "        for row in board_fen.split(\"/\"):\n",
    "            line = []\n",
    "            for character in row:\n",
    "                if character.isdigit():\n",
    "                    for empty in range(int(character)):\n",
    "                        line.append(\" \")\n",
    "                else: \n",
    "                    line.append(character)\n",
    "            board_matrix.append(line)\n",
    "        return board_matrix"
   ]
  },
  {
   "cell_type": "markdown",
   "metadata": {},
   "source": [
    "Zur optimalen Visualisierung des Schachbretts müssen die Buchstaben, die eine Figur beschreiben, in ein Zeichen wie bspw. ♔ gewandelt werden. Für diese Umsetzung wird die Funktion `piece_switcher(self, piece)` benötigt, die anhand der übergebenen Buchstaben die Figur als Unicode-Zeichen zurückgibt."
   ]
  },
  {
   "cell_type": "code",
   "execution_count": null,
   "metadata": {},
   "outputs": [],
   "source": [
    "def piece_switcher(self, piece):\n",
    "        return {\n",
    "            \"K\": u'\\u2654',\n",
    "            \"Q\": u'\\u2655',\n",
    "            \"R\": u'\\u2656',\n",
    "            \"B\": u'\\u2657',\n",
    "            \"N\": u'\\u2658',\n",
    "            \"P\": u'\\u2659',\n",
    "            \"k\": u'\\u265A',\n",
    "            \"q\": u'\\u265B',\n",
    "            \"r\": u'\\u265C',\n",
    "            \"b\": u'\\u265D',\n",
    "            \"n\": u'\\u265E',\n",
    "            \"p\": u'\\u265F'\n",
    "        }.get(piece, piece)"
   ]
  },
  {
   "cell_type": "markdown",
   "metadata": {},
   "source": [
    "Für die Ausgabe eines Feldes und dessen Farben ist die Funktion `create_piece(self, character, field_is_dark)` zuständig, die die Schachfigur als Buchstaben und einen booleschen Wert, ob das zu erzeugenden Feld dunkel oder hell sein muss, übergeben bekommt.\n",
    "\n",
    "Zu Beginn wird mittels des Buchstabens das passende Zeichen ausgewählt und je nachdem, ob der Buchstaben groß oder klein geschrieben ist eine andere Schriftfarbe zugeordnet. Die weißen Figuren werden als Groß- und die schwarzen als Kleinbuchstaben geschrieben.\n",
    "\n",
    "Daraufhin wird der Figur je nach dem Wert der Variable `field_is_dark` eine Hintergrundfarbe zugewiesen und dies zurückgegeben.\n",
    "\n",
    "Da jedoch Microsoft Windows kein Unicode in Konsolen unterstützt, wird bei Nutzern dieses Betriebssystems nur die Buchstaben ausgegeben. Die Implementierung dieser Windows-Spezifikation wird innerhalb der Funktion `create_piece_win(self, character, field_is_dark)` umgesetzt, die analog zu der vorgestellten ist, jedoch sich in dem Punkt unterscheidet, dass das Modul `colorama` verwendet wird und kein Unicode-Zeichen ausgegeben wird, sondern der übergebene Buchstabe."
   ]
  },
  {
   "cell_type": "code",
   "execution_count": null,
   "metadata": {},
   "outputs": [],
   "source": [
    "def create_piece(self, character, field_is_dark):\n",
    "        chess_piece = str(self.piece_switcher(character))\n",
    "        chess_piece_color = FG_BLACK if character.isupper() else FG_WHITE\n",
    "        colored_chess_piece = chess_piece_color + chess_piece.center(3) + fg.rs\n",
    "        background_color = BG_BLACK if field_is_dark is False else BG_WHITE\n",
    "        field = background_color + colored_chess_piece + bg.rs\n",
    "        return field"
   ]
  },
  {
   "cell_type": "markdown",
   "metadata": {},
   "source": [
    "Zur Koordination dieser vorgestellten Funktionen und somit der Ausgabe des Schachbretts wird die Funktion `print_board(self, player_name, board)` verwendet. Dabei wird zuerst die Konstante `PLAYER_TURN_MESSAGE` mit dem passenden Spielername ausgegeben und daraufhin die Matrix des Schachbretts berechnet.\n",
    "\n",
    "Daraufhin werden die Buchstaben der x-Achse des Schachbretts ausgegeben und darauf eine for-Schleife verwendet, die aus der Anzahl der vorhandenen Spalten iteriert. Innerhalb dieser Schleife wird jeweils zu Beginn einer Zeile die aktuelle y-Achsen Zahl ausgegeben und daraufhin eine neue for-Schleife gestartet, die berechnet, ob das Feld dunkel oder hell sein muss. Ebenfalls wird in dieser zweiten for-Schleife Gebrauch von der Funktion `create_piece` gemacht und die Schachfigur ausgegeben. Am Ende jeder Zeile wird, analog zum Beginn einer Zeile, die y-Achsen Zahl ausgegeben.\n",
    "\n",
    "Nachdem alle Zeilen ausgegeben wurden, wird erneut die x-Achsen Beschreibung der Konsole übermittelt."
   ]
  },
  {
   "cell_type": "code",
   "execution_count": null,
   "metadata": {},
   "outputs": [],
   "source": [
    "def print_board(self, player_name, board):\n",
    "        super().print_board(player_name, board)\n",
    "        print(PLAYER_TURN_MESSAGE.format(player_name))\n",
    "        board_matrix = self.create_board_matrix(board)\n",
    "        self.print_alphabetical_description()\n",
    "        for row_index, row in enumerate(board_matrix):\n",
    "            print((str(8 - row_index)).center(3), end=\"\")\n",
    "            for field_index, field in enumerate(row):\n",
    "                field_is_dark = bool((field_index + row_index)% 2)\n",
    "                colored_field = self.create_piece(field, field_is_dark) if not self.need_win_support else self.create_piece_win(field, field_is_dark)\n",
    "                print(colored_field, end='')\n",
    "            print((str(8 - row_index)).center(3))\n",
    "        self.print_alphabetical_description()"
   ]
  },
  {
   "cell_type": "markdown",
   "metadata": {},
   "source": [
    "### Abfrage von Schachzügen des Spielers\n",
    "Damit der Nutzer seine Züge der Schach-KI übergeben kann muss er mittels der Konsole komunizieren können."
   ]
  },
  {
   "cell_type": "code",
   "execution_count": null,
   "metadata": {},
   "outputs": [],
   "source": [
    "def get_move(self, legal_moves):\n",
    "        super().get_move(legal_moves)\n",
    "        input_msg = ASK_FOR_MOVE_MESSAGE.format(legal_moves)\n",
    "        move = Tools.check_legal_input_string(legal_moves,input_msg, WRONG_INPUT_MESSAGE)\n",
    "        return move"
   ]
  }
 ],
 "metadata": {
  "kernelspec": {
   "display_name": "Python 3",
   "language": "python",
   "name": "python3"
  },
  "language_info": {
   "codemirror_mode": {
    "name": "ipython",
    "version": 3
   },
   "file_extension": ".py",
   "mimetype": "text/x-python",
   "name": "python",
   "nbconvert_exporter": "python",
   "pygments_lexer": "ipython3",
   "version": "3.6.5"
  }
 },
 "nbformat": 4,
 "nbformat_minor": 2
}

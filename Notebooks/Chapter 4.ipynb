{
 "cells": [
  {
   "cell_type": "code",
   "execution_count": 6,
   "metadata": {},
   "outputs": [
    {
     "data": {
      "text/html": [
       "\n",
       "<style>\n",
       "svg {\n",
       "    width:40% !important;\n",
       "    height:40% !important;\n",
       "}\n",
       "\n",
       ".container { \n",
       "    width:100% !important;\n",
       "}\n",
       "</style>\n"
      ],
      "text/plain": [
       "<IPython.core.display.HTML object>"
      ]
     },
     "execution_count": 6,
     "metadata": {},
     "output_type": "execute_result"
    }
   ],
   "source": [
    "from IPython.core.display import HTML, display\n",
    "HTML(\"\"\"\n",
    "<style>\n",
    "svg {\n",
    "    width:40% !important;\n",
    "    height:40% !important;\n",
    "}\n",
    "\n",
    ".container { \n",
    "    width:100% !important;\n",
    "}\n",
    "</style>\n",
    "\"\"\")"
   ]
  },
  {
   "cell_type": "code",
   "execution_count": 7,
   "metadata": {},
   "outputs": [],
   "source": [
    "# %autosave 0\n",
    "%config IPCompleter.greedy=True"
   ]
  },
  {
   "cell_type": "code",
   "execution_count": 1,
   "metadata": {},
   "outputs": [],
   "source": [
    "import chess"
   ]
  },
  {
   "cell_type": "markdown",
   "metadata": {},
   "source": [
    "## Evaluieren des Schachbretts & Berechnen attackierter Figuren\n",
    "\n",
    "Um mögliche Züge der KI bewerten zu können und den besten Zug auszuwählen, müssen diese einen Wert zugewiesen bekommen, der Aussage über die Qualität des Zuges gibt. Dafür können unter anderem die Bewertung des Schachbretts durch Summieren zugewiesener Werte für alle lebenden Figuren oder das Berechnen und Einbeziehen attackierter Figuren zur Hilfe genommen werden.\n",
    "\n",
    "Dabei ist zunächst jedem Figurentyp ein Wert zuzuweisen. Üblicherweise werden Bauern dabei 1 Punkt, Türmen 5 Punkte, Springern sowie Läufern jeweils 3 Punkte und der Dame 9 Punkte zugeordnet."
   ]
  },
  {
   "cell_type": "code",
   "execution_count": 2,
   "metadata": {},
   "outputs": [],
   "source": [
    "PAWN_VALUE = 1\n",
    "ROOK_VALUE = 5\n",
    "KNIGHT_VALUE = 3\n",
    "BISHOP_VALUE = 3\n",
    "QUEEN_VALUE = 9\n",
    "KING_VALUE = 20\n",
    "\n",
    "def assign_piece_value(piece_type):\n",
    "    return {\n",
    "        1: PAWN_VALUE,\n",
    "        2: KNIGHT_VALUE,\n",
    "        3: BISHOP_VALUE,\n",
    "        4: ROOK_VALUE,\n",
    "        5: QUEEN_VALUE,\n",
    "        6: KING_VALUE\n",
    "    }[piece_type]"
   ]
  },
  {
   "cell_type": "markdown",
   "metadata": {},
   "source": [
    "Um den Wert des Schachbretts zu berechnen muss zunächst der Wert aller weißer Figuren berechnet werden und von diesem der Wert aller schwarzen Figuren abgezogen werden. Ist das Ergebnis positiv, verläuft das Spiel günstig für den Spieler der weißen Figuren. Ist das Ergebnis negativ, liegt der Spieler der schwarzen Figuren im Vorteil. Umso höher der Betrag des jeweiligen Spielers ist, desto mehr liegt dieser im Vorteil.\n",
    "\n",
    "Damit die Werte der Spieler berechnet werden können, wird die Anzahl aller Figurentypen, der jeweiligen Farbe, berechnet und diese mit dem Wert der Figurentypen multipliziert. Am Ende werden die Ergebnisse für alle Figurentypen zusammengezählt und zurückgegeben."
   ]
  },
  {
   "cell_type": "code",
   "execution_count": 3,
   "metadata": {},
   "outputs": [],
   "source": [
    "def get_value_by_color(color):\n",
    "    attacked_pieces_value = map(lambda piece_type : len(board.pieces(piece_type, color)) * assign_piece_value(piece_type), chess.PIECE_TYPES)\n",
    "    return sum(attacked_pieces_value)\n",
    "\n",
    "def get_board_value():\n",
    "    white_value = get_value_by_color(chess.WHITE)\n",
    "    black_value = get_value_by_color(chess.BLACK)\n",
    "    \n",
    "    return white_value - black_value"
   ]
  },
  {
   "cell_type": "markdown",
   "metadata": {},
   "source": [
    "Die Berechnung der attackierten Figuren ist ähnlich zu dem Vorgehen bei der Berechnung des Brettwerts. Dabei werden erst die Werte, der vom weißen Spieler attackierten Figuren berechnet und davon die Werte der vom schwarzen Spieler attackierten Figuren abgezogen. Auch hierbei ist ein positives Ergebnis zum Vorteil des Spielers der weißen Figuren und ein negatives Ergebnis zum Vorteil des Spielers der schwarzen Figuren. Ebenso gilt umso höher der Wert, desto deutlicher der Vorteil.\n",
    "\n",
    "Um diese Werte der attackierten Figuren zu berechnen wird jedes Feld durchgegangen. Daraus werden die Felder gefiltert, die von einer Figur der Farbe des Verteidigers belegt sind und von einer Figur der angreifenden Farbe attackiert werden können. Anschließend wird zu diesen Feldern der Typ der Figur zugeordnet, die sich auf dem Feld befindet. Daraufhin werden diesen ihre jeweiligen Werte zugeordnet und diese abschließend summiert."
   ]
  },
  {
   "cell_type": "code",
   "execution_count": 4,
   "metadata": {},
   "outputs": [],
   "source": [
    "def get_attacked_pieces_value_by_color(attacker_color, defender_color):\n",
    "    # filters squares for attacked squares, on which a figure of defender is placed\n",
    "    attackedSquares = filter(lambda square : board.is_attacked_by(attacker_color, square) and not board.piece_at(square) is None and board.piece_at(square).color is defender_color, chess.SQUARES)\n",
    "    # maps piece type to attacked figure\n",
    "    attackedPieces = map(lambda square : board.piece_at(square).piece_type, attackedSquares)\n",
    "    # maps piece value to attacked pieces\n",
    "    value = map(assign_piece_value, attackedPieces)\n",
    "    # sums piece value of all attacked pieces\n",
    "    return sum(value)\n",
    "     \n",
    "def get_attacked_pieces_value():\n",
    "    white_value = get_attacked_pieces_value_by_color(chess.WHITE, chess.BLACK)\n",
    "    black_value = get_attacked_pieces_value_by_color(chess.BLACK, chess.WHITE)\n",
    "    \n",
    "    return white_value - black_value"
   ]
  },
  {
   "cell_type": "markdown",
   "metadata": {},
   "source": [
    "Im folgenden Codeausschnitt wird ein Beispiel gegeben wie durch die Verwendung, der zuvor vorgestellten Funktionen, eine Auskunft über den akutellen Spielstand gegeben werden kann."
   ]
  },
  {
   "cell_type": "code",
   "execution_count": 5,
   "metadata": {},
   "outputs": [
    {
     "name": "stdout",
     "output_type": "stream",
     "text": [
      "Draw\n",
      "Value of the attacked pieces:  0\n"
     ]
    }
   ],
   "source": [
    "board = chess.Board()\n",
    "\n",
    "board_value = get_board_value()\n",
    "attacked_pieces_value = get_attacked_pieces_value()\n",
    "\n",
    "# compute the player with a higher value of pieces\n",
    "if board_value > 0:\n",
    "    print(\"White held the lead ahead of Black\")\n",
    "elif board_value < 0:\n",
    "    print(\"Black held the lead ahead of White\")\n",
    "else:\n",
    "    print(\"Draw\")\n",
    "    \n",
    "print(\"Value of the attacked pieces: \", attacked_pieces_value)"
   ]
  },
  {
   "cell_type": "code",
   "execution_count": null,
   "metadata": {},
   "outputs": [],
   "source": []
  }
 ],
 "metadata": {
  "kernelspec": {
   "display_name": "Python 3",
   "language": "python",
   "name": "python3"
  },
  "language_info": {
   "codemirror_mode": {
    "name": "ipython",
    "version": 3
   },
   "file_extension": ".py",
   "mimetype": "text/x-python",
   "name": "python",
   "nbconvert_exporter": "python",
   "pygments_lexer": "ipython3",
   "version": "3.6.5"
  }
 },
 "nbformat": 4,
 "nbformat_minor": 2
}

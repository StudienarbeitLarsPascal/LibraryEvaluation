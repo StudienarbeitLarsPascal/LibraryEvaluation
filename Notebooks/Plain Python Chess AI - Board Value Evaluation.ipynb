{
 "cells": [
  {
   "cell_type": "code",
   "execution_count": null,
   "metadata": {},
   "outputs": [],
   "source": [
    "pip3 install python-chess==0.28.1"
   ]
  },
  {
   "cell_type": "code",
   "execution_count": null,
   "metadata": {},
   "outputs": [],
   "source": [
    "conda install pandas"
   ]
  },
  {
   "cell_type": "code",
   "execution_count": null,
   "metadata": {},
   "outputs": [],
   "source": [
    "from IPython.core.display import HTML, display\n",
    "HTML(\"\"\"\n",
    "<style>\n",
    "svg {\n",
    "    width:40% !important;\n",
    "    height:40% !important;\n",
    "}\n",
    "\n",
    ".container { \n",
    "    width:100% !important;\n",
    "}\n",
    "</style>\n",
    "\"\"\")"
   ]
  },
  {
   "cell_type": "code",
   "execution_count": null,
   "metadata": {},
   "outputs": [],
   "source": [
    "OPENING_MAX_FULLMOVE_NUM = 6\n",
    "MAX_BOARD_VALUE = float(\"inf\")\n",
    "MAX_DEPTH = 8\n",
    "TIME_LIMIT = 45\n",
    "\n",
    "def get_move(board):        \n",
    "        opening_book = import_opening_book(OPENING_BOOK_LOC)\n",
    "        \n",
    "        if board.fullmove_number <= OPENING_MAX_FULLMOVE_NUM:\n",
    "            move = get_opening_move(board, opening_book)\n",
    "            if not move is None:\n",
    "                return move\n",
    "        \n",
    "\n",
    "        return iterative_deepening(board, MAX_DEPTH, evaluate_board)"
   ]
  },
  {
   "cell_type": "code",
   "execution_count": null,
   "metadata": {},
   "outputs": [],
   "source": [
    "OPENING_BOOK_LOC = \"./res/polyglot/Performance.bin\""
   ]
  },
  {
   "cell_type": "code",
   "execution_count": null,
   "metadata": {},
   "outputs": [],
   "source": [
    "def import_opening_book(book_location):\n",
    "        if os.path.isfile(book_location):\n",
    "            return chess.polyglot.open_reader(book_location)\n",
    "        else:\n",
    "            raise FileNotFoundError(\n",
    "                errno.ENOENT, os.strerror(errno.ENOENT), book_location)"
   ]
  },
  {
   "cell_type": "code",
   "execution_count": null,
   "metadata": {},
   "outputs": [],
   "source": [
    "def get_opening_move(board, opening_book):\n",
    "        '''\n",
    "        get the current board and return move, as string, for this situation\n",
    "        '''\n",
    "        if not (opening_book is None):\n",
    "            try:\n",
    "                main_entry = opening_book.weighted_choice(board)\n",
    "                move = main_entry.move\n",
    "                opening_book.close()\n",
    "                return move\n",
    "            except IndexError:\n",
    "                return None\n",
    "        else:\n",
    "            return None"
   ]
  },
  {
   "cell_type": "code",
   "execution_count": null,
   "metadata": {},
   "outputs": [],
   "source": [
    "def iterative_deepening(board, max_depth, evaluation_func):\n",
    "    depth = 1\n",
    "\n",
    "    start_time = int(time.time())\n",
    "    end_time = start_time + TIME_LIMIT\n",
    "    current_time = start_time\n",
    "\n",
    "    player = bool(board.turn)\n",
    "    best_possible_result = get_best_possible_result(board, player)\n",
    "\n",
    "    legal_moves = list(board.legal_moves)\n",
    "    while current_time < end_time and depth <= max_depth:\n",
    "        move_val_dict = {}\n",
    "\n",
    "        best_value = float('-inf')\n",
    "        best_move = legal_moves[0]\n",
    "\n",
    "        for move in legal_moves:\n",
    "            board.push(move)\n",
    "            value = min_value(board, player, float('-inf'), float('inf'), depth - 1, end_time, evaluation_func, best_possible_result)\n",
    "            board.pop()\n",
    "            if value is False:\n",
    "                value = float('-inf')\n",
    "            move_val_dict[move] = value\n",
    "            if value == MAX_BOARD_VALUE:\n",
    "                return move\n",
    "            if value > best_value:\n",
    "                best_value = value\n",
    "                best_move = move\n",
    "\n",
    "        legal_moves.sort(key=move_val_dict.get, reverse=True)\n",
    "        depth += 1\n",
    "        current_time = int(time.time())\n",
    "\n",
    "    return best_move"
   ]
  },
  {
   "cell_type": "code",
   "execution_count": null,
   "metadata": {},
   "outputs": [],
   "source": [
    "def get_best_possible_result(board, player):\n",
    "    if player and board.has_insufficient_material(chess.WHITE):\n",
    "        return 0\n",
    "    if not player and board.has_insufficient_material(chess.BLACK):\n",
    "        return 0\n",
    "    if player and not board.has_insufficient_material(chess.WHITE):\n",
    "        return 1\n",
    "    if not player and not board.has_insufficient_material(chess.BLACK):\n",
    "        return -1"
   ]
  },
  {
   "cell_type": "code",
   "execution_count": null,
   "metadata": {},
   "outputs": [],
   "source": [
    "def min_value(board, player, alpha, beta, depth, time_limit, evaluation_func, best_possible_result):\n",
    "    v = float('inf')\n",
    "    \n",
    "    if board.is_game_over() or depth == 0:\n",
    "        return evaluation_func(board, player, best_possible_result)\n",
    "    if int(time.time()) >= time_limit:\n",
    "        return False\n",
    "\n",
    "    for move in board.legal_moves:\n",
    "        board.push(move)\n",
    "        deeper_val = max_value(board, player, alpha, beta, depth -1, time_limit, evaluation_func, best_possible_result)\n",
    "        board.pop()\n",
    "        if deeper_val is False:\n",
    "            return False            \n",
    "        v = min(v, deeper_val)  \n",
    "\n",
    "        if v <= alpha:\n",
    "            return v\n",
    "        beta = min(beta, v)\n",
    "    return v"
   ]
  },
  {
   "cell_type": "code",
   "execution_count": null,
   "metadata": {},
   "outputs": [],
   "source": [
    "def max_value(board, player, alpha, beta, depth, time_limit, evaluation_func, best_possible_result):\n",
    "    v = float('-inf')\n",
    "\n",
    "    if board.is_game_over() or depth == 0:\n",
    "        return evaluation_func(board, player, best_possible_result)\n",
    "    if int(time.time()) >= time_limit:\n",
    "        return False\n",
    "\n",
    "    for move in board.legal_moves:\n",
    "        board.push(move)\n",
    "        deeper_val = min_value(board, player, alpha, beta, depth -1, time_limit, evaluation_func, best_possible_result)\n",
    "        board.pop()\n",
    "        if deeper_val is False:\n",
    "            return False\n",
    "        v = max(v, deeper_val)\n",
    "\n",
    "        if v >= beta:\n",
    "            return v\n",
    "        alpha = max(alpha, v)\n",
    "    return v"
   ]
  },
  {
   "cell_type": "code",
   "execution_count": null,
   "metadata": {},
   "outputs": [],
   "source": [
    "def evaluate_board(board, player, best_possible_result):\n",
    "    player_color = chess.WHITE if player else chess.BLACK\n",
    "\n",
    "    if board.is_game_over():\n",
    "        result = get_board_result(board)\n",
    "        if result is best_possible_result:\n",
    "            return MAX_BOARD_VALUE\n",
    "        if result is best_possible_result * -1:\n",
    "            return -1 * MAX_BOARD_VALUE\n",
    "    \n",
    "    return get_board_value(board, player)"
   ]
  },
  {
   "cell_type": "code",
   "execution_count": null,
   "metadata": {},
   "outputs": [],
   "source": [
    "PAWN_VALUE = 1\n",
    "ROOK_VALUE = 5\n",
    "KNIGHT_VALUE = 3\n",
    "BISHOP_VALUE = 3\n",
    "QUEEN_VALUE = 9\n",
    "KING_VALUE = 15\n",
    "\n",
    "def assign_piece_value(piece_type, count_king=True):\n",
    "    return {\n",
    "        1: PAWN_VALUE,\n",
    "        2: KNIGHT_VALUE,\n",
    "        3: BISHOP_VALUE,\n",
    "        4: ROOK_VALUE,\n",
    "        5: QUEEN_VALUE,\n",
    "        6: KING_VALUE if count_king else 0\n",
    "    }.get(piece_type, 0)\n",
    "\n",
    "\n",
    "def get_value_by_color(board, color, count_king=True):\n",
    "    pieces_value = map(\n",
    "        lambda piece_type: len(board.pieces(piece_type, color)) * assign_piece_value(piece_type, count_king), chess.PIECE_TYPES)\n",
    "    return sum(pieces_value)\n",
    "\n",
    "\n",
    "def get_board_value(board, color, count_king=True):\n",
    "    white_value = get_value_by_color(board, chess.WHITE, count_king)\n",
    "    black_value = get_value_by_color(board, chess.BLACK, count_king)\n",
    "\n",
    "    return white_value - black_value if color is chess.WHITE else black_value - white_value\n"
   ]
  },
  {
   "cell_type": "code",
   "execution_count": null,
   "metadata": {},
   "outputs": [],
   "source": [
    "from IPython.display import SVG, display\n",
    "\n",
    "def print_board_svg(board):\n",
    "    display(SVG(chess.svg.board(board=board)))"
   ]
  },
  {
   "cell_type": "code",
   "execution_count": null,
   "metadata": {},
   "outputs": [],
   "source": [
    "def get_board_result(board):\n",
    "    if board.is_variant_loss():\n",
    "        return -1 if board.turn == chess.WHITE else 1\n",
    "    elif board.is_variant_win():\n",
    "        return 1 if board.turn == chess.WHITE else -1\n",
    "    elif board.is_variant_draw():\n",
    "        return 0\n",
    "\n",
    "    if board.is_checkmate():\n",
    "        return -1 if board.turn == chess.WHITE else 1\n",
    "    if board.can_claim_draw():\n",
    "        return 0\n",
    "    if board.is_seventyfive_moves() or board.is_fivefold_repetition():\n",
    "        return 0\n",
    "    if board.is_insufficient_material():\n",
    "        return 0\n",
    "    if not any(board.generate_legal_moves()):\n",
    "        return 0\n",
    "    \n",
    "    return 0"
   ]
  },
  {
   "cell_type": "code",
   "execution_count": null,
   "metadata": {
    "scrolled": false
   },
   "outputs": [],
   "source": [
    "import pandas as pd\n",
    "import chess\n",
    "import chess.svg\n",
    "import chess.polyglot\n",
    "import os\n",
    "import numpy as np\n",
    "import time\n",
    "\n",
    "board = chess.Board()\n",
    "while not board.is_game_over():\n",
    "    print_board_svg(board)\n",
    "    if board.turn:\n",
    "        legal_moves = list(map(board.uci, board.legal_moves))\n",
    "        move = None\n",
    "        while move not in legal_moves:\n",
    "            print(\"Legal moves:\")\n",
    "            print(legal_moves)\n",
    "            move = input(\"Please enter your move: \")\n",
    "        move = chess.Move.from_uci(move)\n",
    "    else:\n",
    "        move = get_move(board)\n",
    "\n",
    "    board.push(move)\n",
    "\n",
    "result = get_board_result(board)\n",
    "if result is 1:\n",
    "    print(\"{} (White) has won\".format(players[0].name))\n",
    "elif result is -1:\n",
    "    print(\"{} (Black) has won\".format(players[1].name))\n",
    "else:\n",
    "    print(\"Draw\")\n",
    "    "
   ]
  }
 ],
 "metadata": {
  "kernelspec": {
   "display_name": "Python 3",
   "language": "python",
   "name": "python3"
  },
  "language_info": {
   "codemirror_mode": {
    "name": "ipython",
    "version": 3
   },
   "file_extension": ".py",
   "mimetype": "text/x-python",
   "name": "python",
   "nbconvert_exporter": "python",
   "pygments_lexer": "ipython3",
   "version": "3.6.5"
  }
 },
 "nbformat": 4,
 "nbformat_minor": 2
}
